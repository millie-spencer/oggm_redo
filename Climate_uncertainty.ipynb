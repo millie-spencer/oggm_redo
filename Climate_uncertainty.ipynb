{
 "cells": [
  {
   "cell_type": "markdown",
   "id": "caa1d417-8756-4484-a00b-52ae1a33790d",
   "metadata": {},
   "source": [
    "# Future climate uncertainty"
   ]
  },
  {
   "cell_type": "code",
   "execution_count": null,
   "id": "4497ef9a-1022-486a-8d4b-d97bd8961019",
   "metadata": {
    "tags": []
   },
   "outputs": [],
   "source": [
    "# spatial libraries\n",
    "import shapely.geometry\n",
    "import rioxarray as rioxr\n",
    "import geopandas as gpd\n",
    "import xarray as xr\n",
    "import xesmf as xe\n",
    "import regionmask\n",
    "\n",
    "from xclim.indicators import atmos\n",
    "from xclim import core \n",
    "\n",
    "from tqdm.notebook import tqdm\n",
    "import pandas as pd\n",
    "import numpy as np\n",
    "import cftime\n",
    "import os\n",
    "\n",
    "os.chdir('/home/rooda/Dropbox/Patagonia/')"
   ]
  },
  {
   "cell_type": "markdown",
   "id": "88edb49b-d424-48c3-85ef-96d6d4833db6",
   "metadata": {},
   "source": [
    "## Grid reference"
   ]
  },
  {
   "cell_type": "code",
   "execution_count": null,
   "id": "8e750e12-8565-402e-80df-e7fb69b2bf30",
   "metadata": {
    "tags": []
   },
   "outputs": [],
   "source": [
    "# Catchment shapefiles\n",
    "basins = gpd.read_file(\"GIS South/Basins_Patagonia_ice.shp\")\n",
    "basins = basins.set_index(\"ID\")\n",
    "\n",
    "# Glacier shapefiles\n",
    "rgi6 = gpd.read_file(\"GIS South/Glaciers/RGI6_v2.shp\")[[\"geometry\"]]\n",
    "rgi7 = gpd.read_file(\"GIS South/Glaciers/RGI7_v2.shp\")[[\"geometry\"]]\n",
    "glaciers  = pd.concat([rgi6.geometry, rgi7.geometry])\n",
    "glaciers  = glaciers.buffer(0.05) # mask to use for baseline climate"
   ]
  },
  {
   "cell_type": "code",
   "execution_count": null,
   "id": "ba21a197-b005-4fcc-94a6-aad6b3311fec",
   "metadata": {
    "tags": []
   },
   "outputs": [],
   "source": [
    "# high resolution grid\n",
    "raster_hr   = xr.open_dataset(\"/home/rooda/OGGM_results/PMET_OGGM_1980_2019m.nc\").prcp\n",
    "\n",
    "# DEMs to downscale temperature\n",
    "dem_005 = xr.open_dataset(\"/home/rooda/OGGM_results/PMET_OGGM_1980_2019m.nc\").hgt\n",
    "\n",
    "dem_010 = xr.open_dataset(\"/home/rooda/OGGM_results/MSWEP_OGGM_1980_2019m.nc\").hgt\n",
    "regridder  = xe.Regridder(dem_010,   dem_005, \"nearest_s2d\")\n",
    "dem_010    = regridder(dem_010)\n",
    "\n",
    "dem_025 = xr.open_dataset(\"/home/rooda/OGGM_results/ERA5_OGGM_1980_2019m.nc\").hgt\n",
    "regridder  = xe.Regridder(dem_025,   dem_005, \"nearest_s2d\")\n",
    "dem_025    = regridder(dem_025)\n",
    "\n",
    "# lapse rate\n",
    "lapse_rate = 0.0065 "
   ]
  },
  {
   "cell_type": "markdown",
   "id": "b67ca7d3-beda-45dd-9523-26fec72d9024",
   "metadata": {
    "tags": []
   },
   "source": [
    "## Preprocessing bias corrected data"
   ]
  },
  {
   "cell_type": "code",
   "execution_count": null,
   "id": "f5d3ecd5-937e-4860-a435-d6240d6b7dc1",
   "metadata": {
    "tags": []
   },
   "outputs": [],
   "source": [
    "baseline_period = slice(\"1980-01-01\", \"2010-01-01\")\n",
    "future_period   = slice(\"2070-01-01\", \"2100-01-01\")\n",
    "\n",
    "lat_coords = np.arange(-56,-40, 0.05)\n",
    "lon_coords = np.arange(-76,-67, 0.05)\n",
    "\n",
    "climate_list  = [\"PMET\", \"ERA5\", \"CR2MET\", \"MSWEP\"]\n",
    "gcm_list      = [\"ACCESS-CM2\", \"BCC-CSM2-MR\", \"CMCC-ESM2\", \"FGOALS-f3-L\", \"GFDL-ESM4\", \"CMCC-CM2-SR5\", \"KACE-1-0-G\", \"MPI-ESM1-2-HR\", \"MRI-ESM2-0\", \"MIROC6\"]\n",
    "ssp_list      = ['ssp126', 'ssp245', 'ssp370', 'ssp585']\n",
    "bcm_list      = ['MVA', 'DQM', 'MBC']"
   ]
  },
  {
   "cell_type": "code",
   "execution_count": null,
   "id": "aee5ac25-37e1-4d6d-b24c-53c948f77e5d",
   "metadata": {
    "tags": []
   },
   "outputs": [],
   "source": [
    "os.chdir(\"/home/rooda/OGGM_results/Future_climate_bc/\")\n",
    "\n",
    "dataset_pp   = []\n",
    "dataset_prsn = []\n",
    "dataset_ppd  = []\n",
    "dataset_t2m  = []\n",
    "\n",
    "for climate in tqdm(climate_list):\n",
    "    \n",
    "    dataset_pp_climate   = []\n",
    "    dataset_prsn_climate = []\n",
    "    dataset_ppd_climate  = []\n",
    "    dataset_t2m_climate  = []\n",
    "    \n",
    "    for gcm in tqdm(gcm_list, leave = False):\n",
    "        for ssp in tqdm(ssp_list, leave = False):\n",
    "            for bcm in bcm_list: \n",
    "        \n",
    "                # pp and t2m in target resolution\n",
    "                pp_projection = xr.open_dataset(\"PP_\" + climate + \"_\" + gcm + \"_\" + ssp + \"_\"  + bcm + \".nc\").pr\n",
    "                pp_projection = pp_projection.sel(time = future_period)\n",
    "                regridder     = xe.Regridder(pp_projection,   raster_hr, \"nearest_s2d\")\n",
    "                pp_projection = regridder(pp_projection) ## ESMF.RegridMethod.NEAREST_STOD\n",
    "                pp_projection.attrs['units']  = \"kg m-2 s-1\"\n",
    "                pp_projection.attrs['standard_name']  = \"precipitation_flux\"\n",
    "                \n",
    "                t2m_projection = xr.open_dataset(\"T2M_\" + climate + \"_\" + gcm + \"_\" + ssp + \"_\"  + bcm + \".nc\").tas\n",
    "                t2m_projection = t2m_projection.sel(time = future_period)\n",
    "                t2m_projection = core.units.convert_units_to(t2m_projection, target = 'C')\n",
    "                \n",
    "                if climate == \"ERA5\": # uses lapse rate\n",
    "                    regridder  = xe.Regridder(t2m_projection, raster_hr, \"nearest_s2d\")\n",
    "                    t2m_projection   = regridder(t2m_projection) \n",
    "                    factor     = (dem_025 - dem_005)*lapse_rate\n",
    "                    t2m_projection   =  t2m_projection + factor\n",
    "                    \n",
    "                if climate == \"MSWEP\": # uses lapse rate\n",
    "                    regridder  = xe.Regridder(t2m_projection,   raster_hr, \"nearest_s2d\")\n",
    "                    t2m_projection  = regridder(t2m_projection)\n",
    "                    factor     = (dem_010 - dem_005)*lapse_rate\n",
    "                    t2m_projection  =  t2m_projection + factor\n",
    "                    \n",
    "                if climate == \"CR2MET\" or climate == \"PMET\":  # same res, different grid\n",
    "                    regridder  = xe.Regridder(t2m_projection, raster_hr, \"nearest_s2d\")\n",
    "                    t2m_projection = regridder(t2m_projection) # simple case (same resolution)\n",
    "                \n",
    "                t2m_projection.attrs['units']  = \"C\"\n",
    "                t2m_projection.attrs['standard_name']  = \"air_temperature\"\n",
    "                \n",
    "                # calculation of ppd (-1ºC threshold)\n",
    "                ppd_projection = t2m_projection.where(t2m_projection >= -1)\n",
    "                ppd_projection = (ppd_projection + 1).resample(time = \"YS\").sum(skipna = False)\n",
    "                ppd_projection = ppd_projection.where(ppd_projection > 0)\n",
    "                ppd_projection = ppd_projection.mean(dim=\"time\")\n",
    "                ppd_projection = ppd_projection.assign_coords({\"CLIMATE\": climate, \"GCM\": gcm, \"SSP\": ssp, \"BCM\": bcm})\n",
    "                ppd_projection = ppd_projection.expand_dims(['CLIMATE', 'GCM', 'SSP', 'BCM'])\n",
    "                dataset_ppd_climate.append(ppd_projection)    \n",
    "                \n",
    "                # calculation of prsn (brown method)\n",
    "                prsn_projection = atmos.snowfall_approximation(pp_projection, t2m_projection, method='brown', thresh='0 degC')\n",
    "                prsn_projection = core.units.convert_units_to(prsn_projection, target = 'mm month-1', context = \"hydro\")\n",
    "                prsn_projection = prsn_projection.resample(time = \"YS\").sum(skipna = False)\n",
    "                prsn_projection = prsn_projection.mean(dim=\"time\")\n",
    "                prsn_projection = prsn_projection.assign_coords({\"CLIMATE\": climate, \"GCM\": gcm, \"SSP\": ssp, \"BCM\": bcm})\n",
    "                prsn_projection = prsn_projection.expand_dims(['CLIMATE', 'GCM', 'SSP', 'BCM'])\n",
    "                dataset_prsn_climate.append(prsn_projection) \n",
    "                \n",
    "                # calculation of air temperature\n",
    "                t2m_projection = t2m_projection.resample(time = \"YS\").mean(skipna = False)\n",
    "                t2m_projection = t2m_projection.mean(dim=\"time\")\n",
    "                t2m_projection = t2m_projection.assign_coords({\"CLIMATE\": climate, \"GCM\": gcm, \"SSP\": ssp, \"BCM\": bcm})\n",
    "                t2m_projection = t2m_projection.expand_dims(['CLIMATE', 'GCM', 'SSP', 'BCM'])\n",
    "                dataset_t2m_climate.append(t2m_projection)               \n",
    "                \n",
    "                # calculation of total precipitation\n",
    "                pp_projection = core.units.convert_units_to(pp_projection, target = 'mm month-1', context = \"hydro\")\n",
    "                pp_projection = pp_projection.resample(time = \"YS\").sum(skipna = False)\n",
    "                pp_projection = pp_projection.mean(dim=\"time\")\n",
    "                pp_projection = pp_projection.assign_coords({\"CLIMATE\": climate, \"GCM\": gcm, \"SSP\": ssp, \"BCM\": bcm})\n",
    "                pp_projection = pp_projection.expand_dims(['CLIMATE', 'GCM', 'SSP', 'BCM'])\n",
    "                dataset_pp_climate.append(pp_projection)\n",
    "            \n",
    "    # trick due to RAM limitation\n",
    "    dataset_pp_climate = xr.combine_by_coords(dataset_pp_climate).load()\n",
    "    dataset_pp.append(dataset_pp_climate)\n",
    "                \n",
    "    dataset_t2m_climate = xr.combine_by_coords(dataset_t2m_climate).load()\n",
    "    dataset_t2m.append(dataset_t2m_climate)\n",
    "\n",
    "    dataset_ppd_climate = xr.combine_by_coords(dataset_ppd_climate).load()\n",
    "    dataset_ppd.append(dataset_ppd_climate)\n",
    "                \n",
    "    dataset_prsn_climate = xr.combine_by_coords(dataset_prsn_climate).load()\n",
    "    dataset_prsn.append(dataset_prsn_climate)\n",
    "\n",
    "dataset_pp   = xr.combine_by_coords(dataset_pp)\n",
    "dataset_t2m  = xr.combine_by_coords(dataset_t2m)\n",
    "dataset_ppd  = xr.combine_by_coords(dataset_ppd)\n",
    "dataset_prsn = xr.combine_by_coords(dataset_prsn)"
   ]
  },
  {
   "cell_type": "code",
   "execution_count": null,
   "id": "17edb6ff-940c-40df-a925-bc8c3ae6b70a",
   "metadata": {
    "tags": []
   },
   "outputs": [],
   "source": [
    "# mask: only glaciarated area\n",
    "mask    = regionmask.mask_geopandas(glaciers, dataset_pp)   >= 0\n",
    "\n",
    "dataset_pp    = dataset_pp.where(mask, drop = True)\n",
    "dataset_t2m   = dataset_t2m.where(mask, drop = True)\n",
    "dataset_prsn  = dataset_prsn.where(mask, drop = True).prsn\n",
    "dataset_ppd   = dataset_ppd.where(mask, drop = True) * 30 # daily"
   ]
  },
  {
   "cell_type": "code",
   "execution_count": null,
   "id": "f0dc26d5-d936-44e3-94e4-2a776c9330ca",
   "metadata": {
    "tags": []
   },
   "outputs": [],
   "source": [
    "# summarize arrays\n",
    "\n",
    "## all\n",
    "dataset_pp_ensemble_mean  = dataset_pp.mean(dim = [\"CLIMATE\",\"GCM\", \"SSP\", \"BCM\"])\n",
    "dataset_pp_ensemble_std   = dataset_pp.std(dim = [\"CLIMATE\",\"GCM\", \"SSP\", \"BCM\"])\n",
    "dataset_t2m_ensemble_mean = dataset_t2m.mean(dim = [\"CLIMATE\",\"GCM\", \"SSP\", \"BCM\"])\n",
    "dataset_t2m_ensemble_std  = dataset_t2m.std(dim = [\"CLIMATE\",\"GCM\", \"SSP\", \"BCM\"])\n",
    "\n",
    "## only climate\n",
    "dataset_pp_climate    = dataset_pp.std(dim = [\"CLIMATE\"]).mean(dim = [\"GCM\", \"SSP\", \"BCM\"])\n",
    "dataset_t2m_climate   = dataset_t2m.std(dim = [\"CLIMATE\"]).mean(dim = [\"GCM\", \"SSP\", \"BCM\"])\n",
    "dataset_prsn_climate  = dataset_prsn.std(dim = [\"CLIMATE\"]).mean(dim = [\"GCM\", \"SSP\", \"BCM\"])\n",
    "dataset_ppd_climate   = dataset_ppd.std(dim = [\"CLIMATE\"]).mean(dim = [\"GCM\", \"SSP\", \"BCM\"])\n",
    "\n",
    "## only gcm\n",
    "dataset_pp_gcm    = dataset_pp.std(dim = [\"GCM\"]).mean(dim = [\"CLIMATE\", \"SSP\", \"BCM\"])\n",
    "dataset_t2m_gcm   = dataset_t2m.std(dim = [\"GCM\"]).mean(dim = [\"CLIMATE\", \"SSP\", \"BCM\"])\n",
    "dataset_prsn_gcm  = dataset_prsn.std(dim = [\"GCM\"]).mean(dim = [\"CLIMATE\", \"SSP\", \"BCM\"])\n",
    "dataset_ppd_gcm   = dataset_ppd.std(dim = [\"GCM\"]).mean(dim = [\"CLIMATE\", \"SSP\", \"BCM\"])\n",
    "\n",
    "## only ssp\n",
    "dataset_pp_ssp    = dataset_pp.std(dim = [\"SSP\"]).mean(dim = [\"GCM\", \"CLIMATE\", \"BCM\"])\n",
    "dataset_t2m_ssp   = dataset_t2m.std(dim = [\"SSP\"]).mean(dim = [\"GCM\", \"CLIMATE\", \"BCM\"])\n",
    "dataset_prsn_ssp  = dataset_prsn.std(dim = [\"SSP\"]).mean(dim = [\"GCM\", \"CLIMATE\", \"BCM\"])\n",
    "dataset_ppd_ssp   = dataset_ppd.std(dim = [\"SSP\"]).mean(dim = [\"GCM\", \"CLIMATE\", \"BCM\"])\n",
    "\n",
    "## only bcm\n",
    "dataset_pp_bcm    = dataset_pp.std(dim = [\"BCM\"]).mean(dim = [\"GCM\", \"SSP\", \"CLIMATE\"])\n",
    "dataset_t2m_bcm   = dataset_t2m.std(dim = [\"BCM\"]).mean(dim = [\"GCM\", \"SSP\", \"CLIMATE\"])\n",
    "dataset_prsn_bcm  = dataset_prsn.std(dim = [\"BCM\"]).mean(dim = [\"GCM\", \"SSP\", \"CLIMATE\"])\n",
    "dataset_ppd_bcm   = dataset_ppd.std(dim = [\"BCM\"]).mean(dim = [\"GCM\", \"SSP\", \"CLIMATE\"])"
   ]
  },
  {
   "cell_type": "code",
   "execution_count": null,
   "id": "59949df7-cff6-4a3a-a777-c52a281f05ef",
   "metadata": {
    "tags": []
   },
   "outputs": [],
   "source": [
    "# mean value for each catchment\n",
    "averager = xe.SpatialAverager(dataset_pp,   basins.geometry, geom_dim_name=\"avg\")\n",
    "\n",
    "basins[\"PP_ensemble_mean\"]  = averager(dataset_pp_ensemble_mean,  skipna=True).assign_coords(avg=xr.DataArray(basins.index, dims=(\"avg\",))).values\n",
    "basins[\"PP_ensemble_std\"]   = averager(dataset_pp_ensemble_std,   skipna=True).assign_coords(avg=xr.DataArray(basins.index, dims=(\"avg\",))).values\n",
    "basins[\"T2M_ensemble_mean\"] = averager(dataset_t2m_ensemble_mean, skipna=True).assign_coords(avg=xr.DataArray(basins.index, dims=(\"avg\",))).values\n",
    "basins[\"T2M_ensemble_std\"]  = averager(dataset_t2m_ensemble_std,  skipna=True).assign_coords(avg=xr.DataArray(basins.index, dims=(\"avg\",))).values\n",
    "basins[\"PP_ensemble_cv\"]    = basins[\"PP_ensemble_std\"]  / basins[\"PP_ensemble_mean\"]\n",
    "basins[\"T2M_ensemble_cv\"]   = basins[\"T2M_ensemble_std\"] / basins[\"T2M_ensemble_mean\"]\n",
    "\n",
    "basins[\"PP_climate\"]   = averager(dataset_pp_climate,   skipna=True).assign_coords(avg=xr.DataArray(basins.index, dims=(\"avg\",))).values\n",
    "basins[\"T2M_climate\"]  = averager(dataset_t2m_climate,  skipna=True).assign_coords(avg=xr.DataArray(basins.index, dims=(\"avg\",))).values\n",
    "basins[\"PRSN_climate\"] = averager(dataset_prsn_climate, skipna=True).assign_coords(avg=xr.DataArray(basins.index, dims=(\"avg\",))).values\n",
    "basins[\"PPD_climate\"]  = averager(dataset_ppd_climate,  skipna=True).assign_coords(avg=xr.DataArray(basins.index, dims=(\"avg\",))).values\n",
    "\n",
    "basins[\"PP_gcm\"]   = averager(dataset_pp_gcm,   skipna=True).assign_coords(avg=xr.DataArray(basins.index, dims=(\"avg\",))).values\n",
    "basins[\"T2M_gcm\"]  = averager(dataset_t2m_gcm,  skipna=True).assign_coords(avg=xr.DataArray(basins.index, dims=(\"avg\",))).values\n",
    "basins[\"PRSN_gcm\"] = averager(dataset_prsn_gcm, skipna=True).assign_coords(avg=xr.DataArray(basins.index, dims=(\"avg\",))).values\n",
    "basins[\"PPD_gcm\"]  = averager(dataset_ppd_gcm,  skipna=True).assign_coords(avg=xr.DataArray(basins.index, dims=(\"avg\",))).values\n",
    "\n",
    "basins[\"PP_ssp\"]   = averager(dataset_pp_ssp,   skipna=True).assign_coords(avg=xr.DataArray(basins.index, dims=(\"avg\",))).values\n",
    "basins[\"T2M_ssp\"]  = averager(dataset_t2m_ssp,  skipna=True).assign_coords(avg=xr.DataArray(basins.index, dims=(\"avg\",))).values\n",
    "basins[\"PRSN_ssp\"] = averager(dataset_prsn_ssp, skipna=True).assign_coords(avg=xr.DataArray(basins.index, dims=(\"avg\",))).values\n",
    "basins[\"PPD_ssp\"]  = averager(dataset_ppd_ssp,  skipna=True).assign_coords(avg=xr.DataArray(basins.index, dims=(\"avg\",))).values\n",
    "\n",
    "basins[\"PP_bcm\"]   = averager(dataset_pp_bcm,   skipna=True).assign_coords(avg=xr.DataArray(basins.index, dims=(\"avg\",))).values\n",
    "basins[\"T2M_bcm\"]  = averager(dataset_t2m_bcm,  skipna=True).assign_coords(avg=xr.DataArray(basins.index, dims=(\"avg\",))).values\n",
    "basins[\"PRSN_bcm\"] = averager(dataset_prsn_bcm, skipna=True).assign_coords(avg=xr.DataArray(basins.index, dims=(\"avg\",))).values\n",
    "basins[\"PPD_bcm\"]  = averager(dataset_ppd_bcm,  skipna=True).assign_coords(avg=xr.DataArray(basins.index, dims=(\"avg\",))).values"
   ]
  },
  {
   "cell_type": "code",
   "execution_count": null,
   "id": "083cd64c-914a-4f7d-82fd-f0f359d738a0",
   "metadata": {
    "tags": []
   },
   "outputs": [],
   "source": [
    "basins = basins[[\"PP_ensemble_mean\", \"PP_ensemble_std\", 'PP_ensemble_cv', \n",
    "                 \"T2M_ensemble_mean\", \"T2M_ensemble_std\", 'T2M_ensemble_cv', \n",
    "                 'PP_climate','T2M_climate', 'PRSN_climate', 'PPD_climate',\n",
    "                 'PP_gcm', 'T2M_gcm', 'PRSN_gcm', 'PPD_gcm', \n",
    "                 'PP_ssp', 'T2M_ssp', 'PRSN_ssp', 'PPD_ssp', \n",
    "                 'PP_bcm', 'T2M_bcm', 'PRSN_bcm', 'PPD_bcm']]\n",
    "\n",
    "basins.to_csv(\"/home/rooda/Dropbox/Patagonia/MS2 Results/dataset_climate_future.csv\")"
   ]
  },
  {
   "cell_type": "code",
   "execution_count": null,
   "id": "136394d2-0929-452e-a10e-1be1d4eac30d",
   "metadata": {},
   "outputs": [],
   "source": []
  }
 ],
 "metadata": {
  "kernelspec": {
   "display_name": "Python 3 (ipykernel)",
   "language": "python",
   "name": "python3"
  },
  "language_info": {
   "codemirror_mode": {
    "name": "ipython",
    "version": 3
   },
   "file_extension": ".py",
   "mimetype": "text/x-python",
   "name": "python",
   "nbconvert_exporter": "python",
   "pygments_lexer": "ipython3",
   "version": "3.11.8"
  }
 },
 "nbformat": 4,
 "nbformat_minor": 5
}
