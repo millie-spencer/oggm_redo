{
 "cells": [
  {
   "cell_type": "markdown",
   "id": "7e0ac5b3-6a36-40e1-b69b-9a8ed7dfc2fa",
   "metadata": {},
   "source": [
    "# Uncertanty analysis"
   ]
  },
  {
   "cell_type": "code",
   "execution_count": null,
   "id": "ffa1c28f-29fa-4dc4-a7d5-8245b1498131",
   "metadata": {
    "tags": []
   },
   "outputs": [],
   "source": [
    "from sklearn.preprocessing import OrdinalEncoder\n",
    "from sklearn.ensemble import RandomForestRegressor\n",
    "from sklearn.inspection import permutation_importance\n",
    "\n",
    "from sklearn.model_selection import train_test_split\n",
    "from sklearn.model_selection import cross_val_score\n",
    "\n",
    "from tqdm.notebook import tqdm\n",
    "import plotly.express as px\n",
    "import numpy as np\n",
    "import pandas as pd\n",
    "import os\n",
    "\n",
    "os.chdir(\"/home/rooda/Dropbox/Patagonia/\")"
   ]
  },
  {
   "cell_type": "markdown",
   "id": "75d74e13-f8b6-4e20-b31e-0c69a13ef0ac",
   "metadata": {},
   "source": [
    "## Data "
   ]
  },
  {
   "cell_type": "code",
   "execution_count": null,
   "id": "6cff8476-49fb-4ffd-9835-2ef9ebb390a9",
   "metadata": {
    "tags": []
   },
   "outputs": [],
   "source": [
    "# read file from datasets_signature.ipynb\n",
    "dataset = pd.read_csv(\"MS2 Results/dataset_hydro_signatures.csv\", index_col = 0)\n",
    "\n",
    "variables = [\"melt_on_glacier\", \"total_runoff\"]\n",
    "sources   = [\"Outline\", \"Climate\", \"Volume\", \"GCM\", \"SSP\", \"BCM\"]\n",
    "metrics   = dataset.index.unique()"
   ]
  },
  {
   "cell_type": "code",
   "execution_count": null,
   "id": "6b08bbf0-2842-4b5a-a4db-a5deadae21cf",
   "metadata": {
    "tags": []
   },
   "outputs": [],
   "source": [
    "variable_importance = []\n",
    "\n",
    "for variable in tqdm(variables):\n",
    "    for metric in tqdm(metrics, leave = False):\n",
    "\n",
    "        # only basins with at least one glacier\n",
    "        data = dataset[dataset[\"Variable\"] == variable].loc[metric]\n",
    "        data = data.dropna(axis = 1) \n",
    "\n",
    "        # categorical variables\n",
    "        x = data[sources]\n",
    "        x = OrdinalEncoder().fit_transform(x)\n",
    "\n",
    "        for basin in tqdm(data.columns[7:], leave = False):\n",
    "\n",
    "            y = data[basin].values # for each basib\n",
    "            x_train, x_test, y_train, y_test = train_test_split(x, y, test_size = 0.1, random_state=123)\n",
    "\n",
    "            # random forest regression model\n",
    "            rf = RandomForestRegressor(n_estimators = 500, random_state = 123, n_jobs = -1)\n",
    "            rf.fit(x_train, y_train)\n",
    "\n",
    "            # permutation importance\n",
    "            variable_importance_basin = permutation_importance(rf, x_test, y_test, random_state=123, n_jobs=-1, \n",
    "                                            n_repeats=30, scoring = 'neg_root_mean_squared_error')\n",
    "\n",
    "            variable_importance_basin = pd.DataFrame([variable_importance_basin.importances_mean], columns = sources)\n",
    "            variable_importance_basin = variable_importance_basin.div(variable_importance_basin.sum(axis=1), axis=0)\n",
    "            variable_importance_basin[\"ID\"] = basin\n",
    "            variable_importance_basin[\"Metric\"] = metric\n",
    "            variable_importance_basin[\"Variable\"] = variable\n",
    "            variable_importance.append(variable_importance_basin)\n",
    "            \n",
    "variable_importance = pd.concat(variable_importance)\n",
    "variable_importance = variable_importance[[\"ID\", \"Variable\", \"Metric\", \"Outline\", \"Climate\", \"Volume\", \"GCM\", \"SSP\", \"BCM\"]]\n",
    "variable_importance.to_csv(\"MS2 Results/feature_importance_rmse.csv\", index = False)"
   ]
  },
  {
   "cell_type": "code",
   "execution_count": null,
   "id": "dc903a61-d2b3-44d5-b1f7-50b674a3928b",
   "metadata": {},
   "outputs": [],
   "source": []
  }
 ],
 "metadata": {
  "kernelspec": {
   "display_name": "Python 3 (ipykernel)",
   "language": "python",
   "name": "python3"
  },
  "language_info": {
   "codemirror_mode": {
    "name": "ipython",
    "version": 3
   },
   "file_extension": ".py",
   "mimetype": "text/x-python",
   "name": "python",
   "nbconvert_exporter": "python",
   "pygments_lexer": "ipython3",
   "version": "3.11.8"
  }
 },
 "nbformat": 4,
 "nbformat_minor": 5
}
