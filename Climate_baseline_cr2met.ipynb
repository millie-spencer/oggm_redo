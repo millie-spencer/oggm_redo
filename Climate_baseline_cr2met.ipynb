{
 "cells": [
  {
   "cell_type": "markdown",
   "id": "4bc6ce84-95d4-448e-a489-dbe3c4e9cb19",
   "metadata": {},
   "source": [
    "## Climate baseline"
   ]
  },
  {
   "cell_type": "code",
   "execution_count": 2,
   "id": "1dcf4865-6547-405c-9293-8e169f3cf18e",
   "metadata": {},
   "outputs": [],
   "source": [
    "import os\n",
    "import glob\n",
    "import xarray as xr\n",
    "import pandas as pd\n",
    "import geopandas as gpd\n",
    "import xesmf as xe\n",
    "import regionmask\n",
    "import xarray_regrid # type: ignore\n",
    "# import netcdf4 \n",
    "\n",
    "# when using \"rename\", dont change the target variable names (of course, change the original variable names according your files)"
   ]
  },
  {
   "cell_type": "code",
   "execution_count": 3,
   "id": "df4609e3-68f1-4f4c-99aa-de6e00797e0f",
   "metadata": {},
   "outputs": [],
   "source": [
    "# the period\n",
    "period = slice(\"1980-01-01\", \"2019-12-31\")"
   ]
  },
  {
   "cell_type": "code",
   "execution_count": 4,
   "id": "7a59e0a5",
   "metadata": {},
   "outputs": [
    {
     "name": "stderr",
     "output_type": "stream",
     "text": [
      "/var/folders/3j/6dy_9gxj7vvgct178jkkp1680000gn/T/ipykernel_43501/2043866637.py:9: DeprecationWarning: dropping variables using `drop` is deprecated; use drop_vars.\n",
      "  dem        = dem.sel(band=1, drop=True).drop(\"spatial_ref\").fillna(0)\n"
     ]
    }
   ],
   "source": [
    "# sample file (to be shared)\n",
    "# example    = xr.open_dataset(\"example_nc.nc\")\n",
    "example    = xr.open_dataset(\"/Users/milliespencer/Desktop/oggm_redo/rodrigo_data/histalp_merged_hef.nc\")\n",
    "\n",
    "# your DEM close to year 2000\n",
    "# dem        = xr.open_dataset(\"file_dem.tif\").rename({'y':'lat', 'x':'lon', 'band_data':'hgt'})\n",
    "dem        = xr.open_dataset(\"/Users/milliespencer/Desktop/oggm_redo/rodrigo_data/srtm_dem_s37_w072_1arc_v3.tif\").rename({'y':'lat', 'x':'lon', 'band_data':'hgt'})\n",
    "# ^ my SRTM 2000 DEM for the area \n",
    "dem        = dem.sel(band=1, drop=True).drop(\"spatial_ref\").fillna(0)\n",
    "dem.hgt.attrs['units'] = \"m\"\n"
   ]
  },
  {
   "cell_type": "code",
   "execution_count": 5,
   "id": "52e48b3d-31d2-43de-8cb5-0fa6e5364aea",
   "metadata": {},
   "outputs": [],
   "source": [
    "# Create path to monthly cr2met data (stored on my desktop)\n",
    "pp_path = '/Users/milliespencer/Desktop/CR2MET_gridded_climate/pr/'\n",
    "# within folder select each file \n",
    "pp_files = []\n",
    "for file in os.listdir(pp_path):\n",
    "    if file.endswith(\".nc\"):\n",
    "        pp_files.append(file)\n",
    "\n",
    "# \" but for temperature \n",
    "txn_path = '/Users/milliespencer/Desktop/CR2MET_gridded_climate/txn/'\n",
    "txn_files = []\n",
    "for file in os.listdir('/Users/milliespencer/Desktop/CR2MET_gridded_climate/txn'):\n",
    "    if file.endswith(\".nc\"):\n",
    "        txn_files.append(file)\n",
    "\n",
    "pp_files = sorted(pp_files)\n",
    "txn_files = sorted(txn_files)\n",
    "# if you want to double check that it sorted properly: \n",
    "# for i in range(10):\n",
    "#     print(pp_files[i])\n",
    "#     print(txn_files[i])"
   ]
  },
  {
   "cell_type": "code",
   "execution_count": 6,
   "id": "323ce8a6",
   "metadata": {},
   "outputs": [],
   "source": [
    "pp_cr2met   = xr.open_dataset(pp_path + pp_files[0],  chunks = \"auto\").sel(time = period)\n",
    "txn_cr2met   = xr.open_dataset(txn_path + txn_files[0],  chunks = \"auto\").sel(time = period)\n"
   ]
  },
  {
   "cell_type": "code",
   "execution_count": 7,
   "id": "c08f1e49-8990-4a69-ab4e-b2218247472e",
   "metadata": {},
   "outputs": [],
   "source": [
    "# regrid and merge\n",
    "regridder   = xe.Regridder(dem, pp_cr2met, \"bilinear\")\n",
    "dem_cr2met  = regridder(dem)\n",
    "\n",
    "# merge all variables\n",
    "cr2met = xr.merge([pp_cr2met, t2m_cr2met, dem_cr2met]).rename({'pp':'prcp', 't2m':'temp'})\n",
    "cr2met = cr2met.where((cr2met.lon >= -73) & (cr2met.lon <= -71) & (cr2met.lat >= -38) & (cr2met.lat <= -36), drop=True)\n",
    "cr2met = cr2met[[\"lon\", \"lat\", \"time\", \"prcp\", \"temp\", \"hgt\"]]"
   ]
  },
  {
   "cell_type": "code",
   "execution_count": null,
   "id": "f469e986-e784-4fdd-a0d3-b9ff83f66a66",
   "metadata": {},
   "outputs": [],
   "source": [
    "# unit attribute\n",
    "cr2met.prcp.attrs['units'] = \"mm\"\n",
    "cr2met.temp.attrs['units'] = \"degc\"\n",
    "cr2met.hgt.attrs['units'] = \"m\"\n",
    "\n",
    "# standard_name attribute\n",
    "cr2met.prcp.attrs['standard_name'] = \"precipitation\"\n",
    "cr2met.temp.attrs['standard_name'] = \"temperature\""
   ]
  },
  {
   "cell_type": "code",
   "execution_count": null,
   "id": "5050ad74-978a-48d6-8684-965e5ec1dc5d",
   "metadata": {},
   "outputs": [],
   "source": [
    "# save me\n",
    "cr2met.to_netcdf(\"climate_to_use.nc\")"
   ]
  }
 ],
 "metadata": {
  "kernelspec": {
   "display_name": "Python 3 (ipykernel)",
   "language": "python",
   "name": "python3"
  },
  "language_info": {
   "codemirror_mode": {
    "name": "ipython",
    "version": 3
   },
   "file_extension": ".py",
   "mimetype": "text/x-python",
   "name": "python",
   "nbconvert_exporter": "python",
   "pygments_lexer": "ipython3",
   "version": "3.12.4"
  }
 },
 "nbformat": 4,
 "nbformat_minor": 5
}
