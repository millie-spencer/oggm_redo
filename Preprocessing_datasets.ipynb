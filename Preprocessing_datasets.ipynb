{
 "cells": [
  {
   "cell_type": "markdown",
   "id": "5a76a53c-215f-48ea-91dd-29f195bba40e",
   "metadata": {
    "tags": []
   },
   "source": [
    "# Preprocessing datasets for RGI7 (RGI6 too for testing)"
   ]
  },
  {
   "cell_type": "code",
   "execution_count": 1,
   "id": "94af211d-8efb-40e8-b34d-1ad341e17cae",
   "metadata": {},
   "outputs": [],
   "source": [
    "import os \n",
    "import glob # finds all the pathnames matching a specified pattern according to the rules used by the Unix shell\n",
    "import numpy as np\n",
    "import pandas as pd\n",
    "import geopandas as gpd\n",
    "\n",
    "import rasterio\n",
    "from rasterio.merge import merge\n",
    "from rasterio.plot import show\n",
    "from rasterio.enums import Resampling\n",
    "\n",
    "# Import libraries\n",
    "import rioxarray as riox\n",
    "from rioxarray.merge import merge_arrays\n"
   ]
  },
  {
   "cell_type": "markdown",
   "id": "f6e447c3-e57a-486c-92e0-3269b6ca0772",
   "metadata": {
    "tags": []
   },
   "source": [
    "## Preprocess Millan et al. 2022 dataset"
   ]
  },
  {
   "cell_type": "code",
   "execution_count": 2,
   "id": "9406c0d4-8bd7-4be3-9a55-a3656a382f88",
   "metadata": {},
   "outputs": [],
   "source": [
    "# list_files = glob.glob(\"/home/rooda/Dropbox/Patagonia/GIS South/Glaciers/Millan_2022/THICKNESS*.tif\")\n",
    "list_files = glob.glob(\"/Users/milliespencer/Desktop/data_for_preprocessing/M22/Millan_2022_data/RGI-17_thickness/THICKNESS_RGI-17.2_2022August24.tif\")\n",
    "# there's two tif files (17.2 and 17.3) for my region... can i merge both? also do I disregard the error files? "
   ]
  },
  {
   "cell_type": "code",
   "execution_count": 3,
   "id": "ee5afe92-9b44-4223-9f50-4db6675f6d13",
   "metadata": {},
   "outputs": [],
   "source": [
    "glacier_list = []\n",
    "\n",
    "# Read rasters file\n",
    "for glacier in list_files:\n",
    "    glacier_i = riox.open_rasterio(glacier)\n",
    "    # glacier_i = glacier_i.rio.reproject(\"EPSG:32718\")\n",
    "    glacier_i = glacier_i.rio.reproject(\"EPSG:32719\") # my region is slightly further east \n",
    "    glacier_list.append(glacier_i)\n",
    "\n",
    "# Merge/Mosaic multiple rasters using merge_arrays method of rioxarray\n",
    "merged_raster = merge_arrays(dataarrays = glacier_list, res = (50, 50), crs=\"EPSG:32719\", method='max')\n",
    "merged_raster = merged_raster.round(0).astype(\"int16\")\n",
    "\n",
    "# Save Raster to disk\n",
    "# merged_raster.rio.to_raster(\"/home/rooda/Dropbox/Patagonia/GIS South/Glaciers/Thickness_2022.tif\")\n",
    "merged_raster.rio.to_raster(\"/Users/milliespencer/Desktop/data_for_preprocessing/M22/Millan_2022_data/Thickness_2022.tif\")"
   ]
  },
  {
   "cell_type": "markdown",
   "id": "9068d0b9-a8b2-408f-9d3c-e712cec83fe3",
   "metadata": {},
   "source": [
    "## Preprocess Farinotti et al. 2019 dataset"
   ]
  },
  {
   "cell_type": "code",
   "execution_count": 4,
   "id": "1ce73724",
   "metadata": {},
   "outputs": [],
   "source": [
    "# Rodrigo suggests RGI6 not 7 \n",
    "# RGI6 = gpd.read_file(\"/home/rooda/Dropbox/Patagonia/GIS South/Glaciers/RGI6.shp\")\n",
    "RGI6 = gpd.read_file(\"/Users/milliespencer/Desktop/data_for_preprocessing/RGI6/17_rgi60_SouthernAndes/17_rgi60_SouthernAndes.shp\")\n",
    "\n",
    "# RGI6 = RGI6[RGI6.CenLat < -40.5]  # only glaciers in southern Chile-Argentina\n",
    "RGI6 = RGI6[(RGI6.CenLat >= -40) & (RGI6.CenLat <= -36.13)]\n",
    "# made it 36.13 because I feel like there's already a lot of studies on Glacier Universidad, plus it's not a volcano \n",
    "# alternatively could make the region the border of Maule or Nuble instead of a latitude line... open to thoughts "
   ]
  },
  {
   "cell_type": "code",
   "execution_count": 5,
   "id": "31610426",
   "metadata": {},
   "outputs": [
    {
     "name": "stdout",
     "output_type": "stream",
     "text": [
      "                RGIId         GLIMSId   BgnDate   EndDate   CenLon   CenLat  \\\n",
      "12431  RGI60-17.12432  G287959E39962S  20009999  20030531 -72.0414 -39.9622   \n",
      "12432  RGI60-17.12433  G287982E39961S  20009999  20030531 -72.0181 -39.9609   \n",
      "12433  RGI60-17.12434  G287983E39959S  20009999  20030531 -72.0170 -39.9588   \n",
      "12434  RGI60-17.12435  G287956E39958S  20009999  20030531 -72.0443 -39.9583   \n",
      "12435  RGI60-17.12436  G287955E39956S  20009999  20030531 -72.0450 -39.9555   \n",
      "...               ...             ...       ...       ...      ...      ...   \n",
      "13245  RGI60-17.13246  G288972E36148S  20009999  20030531 -71.0285 -36.1481   \n",
      "13246  RGI60-17.13247  G288985E36146S  20009999  20030531 -71.0155 -36.1455   \n",
      "13247  RGI60-17.13248  G288978E36145S  20009999  20030531 -71.0219 -36.1453   \n",
      "13248  RGI60-17.13249  G288982E36137S  20009999  20030531 -71.0180 -36.1371   \n",
      "13249  RGI60-17.13250  G288977E36135S  20009999  20030531 -71.0228 -36.1351   \n",
      "\n",
      "      O1Region O2Region   Area  Zmin  ...  Aspect  Lmax  Status  Connect  \\\n",
      "12431       17        2  0.019  1665  ...     159   127       0        0   \n",
      "12432       17        2  0.017  1737  ...     135   127       0        0   \n",
      "12433       17        2  0.019  1779  ...     141   177       0        0   \n",
      "12434       17        2  0.020  1716  ...     236   215       0        0   \n",
      "12435       17        2  0.012  1717  ...     224   177       0        0   \n",
      "...        ...      ...    ...   ...  ...     ...   ...     ...      ...   \n",
      "13245       17        2  0.140  2481  ...     139   507       0        0   \n",
      "13246       17        2  0.031  2186  ...     139   212       0        0   \n",
      "13247       17        2  0.130  2322  ...     132   482       0        0   \n",
      "13248       17        2  0.134  2490  ...     153   379       0        0   \n",
      "13249       17        2  0.331  2455  ...     182   543       0        0   \n",
      "\n",
      "       Form  TermType  Surging  Linkages  Name  \\\n",
      "12431     0         0        9         9  None   \n",
      "12432     0         0        9         9  None   \n",
      "12433     0         0        9         9  None   \n",
      "12434     0         0        9         9  None   \n",
      "12435     0         0        9         9  None   \n",
      "...     ...       ...      ...       ...   ...   \n",
      "13245     0         0        9         9  None   \n",
      "13246     0         0        9         9  None   \n",
      "13247     0         0        9         9  None   \n",
      "13248     0         0        9         9  None   \n",
      "13249     0         0        9         9  None   \n",
      "\n",
      "                                                geometry  \n",
      "12431  POLYGON ((-72.04217 -39.96279, -72.04247 -39.9...  \n",
      "12432  POLYGON ((-72.01738 -39.95979, -72.01757 -39.9...  \n",
      "12433  POLYGON ((-72.01738 -39.95979, -72.01781 -39.9...  \n",
      "12434  POLYGON ((-72.04564 -39.95917, -72.04581 -39.9...  \n",
      "12435  POLYGON ((-72.04481 -39.95594, -72.04497 -39.9...  \n",
      "...                                                  ...  \n",
      "13245  POLYGON ((-71.02845 -36.14543, -71.02848 -36.1...  \n",
      "13246  POLYGON ((-71.01476 -36.14458, -71.01477 -36.1...  \n",
      "13247  POLYGON ((-71.02204 -36.14229, -71.02204 -36.1...  \n",
      "13248  POLYGON ((-71.01994 -36.13854, -71.02029 -36.1...  \n",
      "13249  POLYGON ((-71.02181 -36.13337, -71.02214 -36.1...  \n",
      "\n",
      "[818 rows x 23 columns]\n"
     ]
    }
   ],
   "source": [
    "print(RGI6)"
   ]
  },
  {
   "cell_type": "code",
   "execution_count": 7,
   "id": "fbaad626",
   "metadata": {},
   "outputs": [
    {
     "name": "stdout",
     "output_type": "stream",
     "text": [
      "                RGIId         GLIMSId   BgnDate   EndDate   CenLon   CenLat  \\\n",
      "12431  RGI60-17.12432  G287959E39962S  20009999  20030531 -72.0414 -39.9622   \n",
      "12432  RGI60-17.12433  G287982E39961S  20009999  20030531 -72.0181 -39.9609   \n",
      "12433  RGI60-17.12434  G287983E39959S  20009999  20030531 -72.0170 -39.9588   \n",
      "12434  RGI60-17.12435  G287956E39958S  20009999  20030531 -72.0443 -39.9583   \n",
      "12435  RGI60-17.12436  G287955E39956S  20009999  20030531 -72.0450 -39.9555   \n",
      "...               ...             ...       ...       ...      ...      ...   \n",
      "13245  RGI60-17.13246  G288972E36148S  20009999  20030531 -71.0285 -36.1481   \n",
      "13246  RGI60-17.13247  G288985E36146S  20009999  20030531 -71.0155 -36.1455   \n",
      "13247  RGI60-17.13248  G288978E36145S  20009999  20030531 -71.0219 -36.1453   \n",
      "13248  RGI60-17.13249  G288982E36137S  20009999  20030531 -71.0180 -36.1371   \n",
      "13249  RGI60-17.13250  G288977E36135S  20009999  20030531 -71.0228 -36.1351   \n",
      "\n",
      "      O1Region O2Region   Area  Zmin  ...  Aspect  Lmax  Status  Connect  \\\n",
      "12431       17        2  0.019  1665  ...     159   127       0        0   \n",
      "12432       17        2  0.017  1737  ...     135   127       0        0   \n",
      "12433       17        2  0.019  1779  ...     141   177       0        0   \n",
      "12434       17        2  0.020  1716  ...     236   215       0        0   \n",
      "12435       17        2  0.012  1717  ...     224   177       0        0   \n",
      "...        ...      ...    ...   ...  ...     ...   ...     ...      ...   \n",
      "13245       17        2  0.140  2481  ...     139   507       0        0   \n",
      "13246       17        2  0.031  2186  ...     139   212       0        0   \n",
      "13247       17        2  0.130  2322  ...     132   482       0        0   \n",
      "13248       17        2  0.134  2490  ...     153   379       0        0   \n",
      "13249       17        2  0.331  2455  ...     182   543       0        0   \n",
      "\n",
      "       Form  TermType  Surging  Linkages  Name  \\\n",
      "12431     0         0        9         9  None   \n",
      "12432     0         0        9         9  None   \n",
      "12433     0         0        9         9  None   \n",
      "12434     0         0        9         9  None   \n",
      "12435     0         0        9         9  None   \n",
      "...     ...       ...      ...       ...   ...   \n",
      "13245     0         0        9         9  None   \n",
      "13246     0         0        9         9  None   \n",
      "13247     0         0        9         9  None   \n",
      "13248     0         0        9         9  None   \n",
      "13249     0         0        9         9  None   \n",
      "\n",
      "                                                geometry  \n",
      "12431  POLYGON ((-72.04217 -39.96279, -72.04247 -39.9...  \n",
      "12432  POLYGON ((-72.01738 -39.95979, -72.01757 -39.9...  \n",
      "12433  POLYGON ((-72.01738 -39.95979, -72.01781 -39.9...  \n",
      "12434  POLYGON ((-72.04564 -39.95917, -72.04581 -39.9...  \n",
      "12435  POLYGON ((-72.04481 -39.95594, -72.04497 -39.9...  \n",
      "...                                                  ...  \n",
      "13245  POLYGON ((-71.02845 -36.14543, -71.02848 -36.1...  \n",
      "13246  POLYGON ((-71.01476 -36.14458, -71.01477 -36.1...  \n",
      "13247  POLYGON ((-71.02204 -36.14229, -71.02204 -36.1...  \n",
      "13248  POLYGON ((-71.01994 -36.13854, -71.02029 -36.1...  \n",
      "13249  POLYGON ((-71.02181 -36.13337, -71.02214 -36.1...  \n",
      "\n",
      "[818 rows x 23 columns]\n"
     ]
    }
   ],
   "source": [
    "# Rodrigo suggests RGI6 not 7 \n",
    "# RGI6 = gpd.read_file(\"/home/rooda/Dropbox/Patagonia/GIS South/Glaciers/RGI6.shp\")\n",
    "RGI6 = gpd.read_file(\"/Users/milliespencer/Desktop/data_for_preprocessing/RGI6/17_rgi60_SouthernAndes/17_rgi60_SouthernAndes.shp\")\n",
    "\n",
    "# RGI6 = RGI6[RGI6.CenLat < -40.5]  # only glaciers in southern Chile-Argentina\n",
    "RGI6 = RGI6[(RGI6.CenLat >= -40) & (RGI6.CenLat <= -36.13)]\n",
    "# made it 36.13 because I feel like there's already a lot of studies on Glacier Universidad, plus it's not a volcano \n",
    "# alternatively could make the region the border of Maule or Nuble instead of a latitude line... open to thoughts \n",
    "print(RGI6) # huh, still 818 rows - why?\n"
   ]
  },
  {
   "cell_type": "code",
   "execution_count": 9,
   "id": "d8e4de9c-4e56-493d-8323-48a0a6837e63",
   "metadata": {
    "tags": []
   },
   "outputs": [],
   "source": [
    "# Rodrigo suggests RGI6 not 7 \n",
    "# RGI6 = gpd.read_file(\"/home/rooda/Dropbox/Patagonia/GIS South/Glaciers/RGI6.shp\")\n",
    "RGI6 = gpd.read_file(\"/Users/milliespencer/Desktop/data_for_preprocessing/RGI6/17_rgi60_SouthernAndes/17_rgi60_SouthernAndes.shp\")\n",
    "\n",
    "# RGI6 = RGI6[RGI6.CenLat < -40.5]  # only glaciers in southern Chile-Argentina\n",
    "RGI6 = RGI6[(RGI6.CenLat >= -40) & (RGI6.CenLat <= -36.13)]\n",
    "# made it 36.13 because I feel like there's already a lot of studies on Glacier Universidad, plus it's not a volcano \n",
    "# alternatively could make the region the border of Maule or Nuble instead of a latitude line... open to thoughts \n",
    "\n",
    "# split list ## what's this part? not sure what this is doing \n",
    "def split(a, n):\n",
    "    k, m = divmod(len(a), n)\n",
    "    return (a[i*k+min(i, m):(i+1)*k+min(i+1, m)] for i in range(n))\n",
    "\n",
    "# File and folder paths\n",
    "# list_files = glob.glob(\"/home/rooda/Dropbox/Patagonia/GIS South/Glaciers/Farinotti_2019/RGI*.tif\")\n",
    "list_files = glob.glob(\"/Users/milliespencer/Desktop/data_for_preprocessing/F19/RGI60-17/*.tif\") # looks for all tif files that start with RGI in this folder \n",
    "list_files_df = pd.DataFrame(list_files,  columns =['dir']) # Creates a DataFrame from list_files\n",
    "list_files_df[\"RGIId\"] = list_files_df.dir.str[64:78] # extracts characters from index 64 to 77 from each file path string. The extracted substring is assigned to a new column named RGIId.\n",
    "\n",
    "list_files_df = list_files_df[list_files_df['RGIId'].isin(RGI6.RGIId)]\n",
    "list_files = list_files_df.dir.tolist() # 12000 glaciers\n",
    "\n",
    "list_files_split = list(split(list_files, 5)) # maximum number of glaciers: 4000 app"
   ]
  },
  {
   "cell_type": "code",
   "execution_count": 34,
   "id": "3b1ecc43",
   "metadata": {},
   "outputs": [
    {
     "name": "stdout",
     "output_type": "stream",
     "text": [
      "[]\n"
     ]
    }
   ],
   "source": [
    "print(list_files)\n",
    "#hmm, that feels problematic - why is it empty? "
   ]
  },
  {
   "cell_type": "code",
   "execution_count": 10,
   "id": "0148ab14-0919-4d5f-b5b5-6f86803dce93",
   "metadata": {},
   "outputs": [
    {
     "ename": "IndexError",
     "evalue": "list index out of range",
     "output_type": "error",
     "traceback": [
      "\u001b[0;31m---------------------------------------------------------------------------\u001b[0m",
      "\u001b[0;31mIndexError\u001b[0m                                Traceback (most recent call last)",
      "Cell \u001b[0;32mIn[10], line 10\u001b[0m\n\u001b[1;32m      7\u001b[0m     glacier_i \u001b[38;5;241m=\u001b[39m glacier_i\u001b[38;5;241m.\u001b[39mrio\u001b[38;5;241m.\u001b[39mreproject(\u001b[38;5;124m\"\u001b[39m\u001b[38;5;124mEPSG:32719\u001b[39m\u001b[38;5;124m\"\u001b[39m, resampling \u001b[38;5;241m=\u001b[39m Resampling\u001b[38;5;241m.\u001b[39mbilinear)\n\u001b[1;32m      8\u001b[0m     glacier_list\u001b[38;5;241m.\u001b[39mappend(glacier_i)\n\u001b[0;32m---> 10\u001b[0m merged_raster \u001b[38;5;241m=\u001b[39m \u001b[43mmerge_arrays\u001b[49m\u001b[43m(\u001b[49m\u001b[43mdataarrays\u001b[49m\u001b[43m \u001b[49m\u001b[38;5;241;43m=\u001b[39;49m\u001b[43m \u001b[49m\u001b[43mglacier_list\u001b[49m\u001b[43m,\u001b[49m\u001b[43m \u001b[49m\u001b[43mres\u001b[49m\u001b[43m \u001b[49m\u001b[38;5;241;43m=\u001b[39;49m\u001b[43m \u001b[49m\u001b[43m(\u001b[49m\u001b[38;5;241;43m50\u001b[39;49m\u001b[43m,\u001b[49m\u001b[43m \u001b[49m\u001b[38;5;241;43m50\u001b[39;49m\u001b[43m)\u001b[49m\u001b[43m,\u001b[49m\u001b[43m \u001b[49m\u001b[43mcrs\u001b[49m\u001b[38;5;241;43m=\u001b[39;49m\u001b[38;5;124;43m\"\u001b[39;49m\u001b[38;5;124;43mEPSG:32719\u001b[39;49m\u001b[38;5;124;43m\"\u001b[39;49m\u001b[43m,\u001b[49m\u001b[43m \u001b[49m\u001b[43mmethod\u001b[49m\u001b[38;5;241;43m=\u001b[39;49m\u001b[38;5;124;43m'\u001b[39;49m\u001b[38;5;124;43mmax\u001b[39;49m\u001b[38;5;124;43m'\u001b[39;49m\u001b[43m)\u001b[49m\n\u001b[1;32m     11\u001b[0m merged_raster\u001b[38;5;241m.\u001b[39mrio\u001b[38;5;241m.\u001b[39mto_raster(\u001b[38;5;124m\"\u001b[39m\u001b[38;5;124m/Users/milliespencer/Desktop/data_for_preprocessing/RGI6/group_\u001b[39m\u001b[38;5;124m\"\u001b[39m \u001b[38;5;241m+\u001b[39m \u001b[38;5;28mstr\u001b[39m(i) \u001b[38;5;241m+\u001b[39m \u001b[38;5;124m\"\u001b[39m\u001b[38;5;124m.tif\u001b[39m\u001b[38;5;124m\"\u001b[39m)\n\u001b[1;32m     12\u001b[0m \u001b[38;5;28mprint\u001b[39m(i)\n",
      "File \u001b[0;32m~/miniconda3/envs/oggm_env/lib/python3.12/site-packages/rioxarray/merge.py:134\u001b[0m, in \u001b[0;36mmerge_arrays\u001b[0;34m(dataarrays, bounds, res, nodata, precision, method, crs, parse_coordinates)\u001b[0m\n\u001b[1;32m    131\u001b[0m         rioduckarrays\u001b[38;5;241m.\u001b[39mappend(RasterioDatasetDuck(dataarray))\n\u001b[1;32m    133\u001b[0m \u001b[38;5;66;03m# use rasterio to merge\u001b[39;00m\n\u001b[0;32m--> 134\u001b[0m merged_data, merged_transform \u001b[38;5;241m=\u001b[39m \u001b[43m_rio_merge\u001b[49m\u001b[43m(\u001b[49m\n\u001b[1;32m    135\u001b[0m \u001b[43m    \u001b[49m\u001b[43mrioduckarrays\u001b[49m\u001b[43m,\u001b[49m\n\u001b[1;32m    136\u001b[0m \u001b[43m    \u001b[49m\u001b[38;5;241;43m*\u001b[39;49m\u001b[38;5;241;43m*\u001b[39;49m\u001b[43m{\u001b[49m\u001b[43mkey\u001b[49m\u001b[43m:\u001b[49m\u001b[43m \u001b[49m\u001b[43mval\u001b[49m\u001b[43m \u001b[49m\u001b[38;5;28;43;01mfor\u001b[39;49;00m\u001b[43m \u001b[49m\u001b[43mkey\u001b[49m\u001b[43m,\u001b[49m\u001b[43m \u001b[49m\u001b[43mval\u001b[49m\u001b[43m \u001b[49m\u001b[38;5;129;43;01min\u001b[39;49;00m\u001b[43m \u001b[49m\u001b[43minput_kwargs\u001b[49m\u001b[38;5;241;43m.\u001b[39;49m\u001b[43mitems\u001b[49m\u001b[43m(\u001b[49m\u001b[43m)\u001b[49m\u001b[43m \u001b[49m\u001b[38;5;28;43;01mif\u001b[39;49;00m\u001b[43m \u001b[49m\u001b[43mval\u001b[49m\u001b[43m \u001b[49m\u001b[38;5;129;43;01mis\u001b[39;49;00m\u001b[43m \u001b[49m\u001b[38;5;129;43;01mnot\u001b[39;49;00m\u001b[43m \u001b[49m\u001b[38;5;28;43;01mNone\u001b[39;49;00m\u001b[43m}\u001b[49m\u001b[43m,\u001b[49m\n\u001b[1;32m    137\u001b[0m \u001b[43m\u001b[49m\u001b[43m)\u001b[49m\n\u001b[1;32m    138\u001b[0m \u001b[38;5;66;03m# generate merged data array\u001b[39;00m\n\u001b[1;32m    139\u001b[0m representative_array \u001b[38;5;241m=\u001b[39m rioduckarrays[\u001b[38;5;241m0\u001b[39m]\u001b[38;5;241m.\u001b[39m_xds\n",
      "File \u001b[0;32m~/miniconda3/envs/oggm_env/lib/python3.12/site-packages/rasterio/merge.py:208\u001b[0m, in \u001b[0;36mmerge\u001b[0;34m(datasets, bounds, res, nodata, dtype, precision, indexes, output_count, resampling, method, target_aligned_pixels, dst_path, dst_kwds)\u001b[0m\n\u001b[1;32m    204\u001b[0m     \u001b[38;5;28;01mraise\u001b[39;00m \u001b[38;5;167;01mValueError\u001b[39;00m(\u001b[38;5;124m'\u001b[39m\u001b[38;5;124mUnknown method \u001b[39m\u001b[38;5;132;01m{0}\u001b[39;00m\u001b[38;5;124m, must be one of \u001b[39m\u001b[38;5;132;01m{1}\u001b[39;00m\u001b[38;5;124m or callable\u001b[39m\u001b[38;5;124m'\u001b[39m\n\u001b[1;32m    205\u001b[0m                      \u001b[38;5;241m.\u001b[39mformat(method, \u001b[38;5;28mlist\u001b[39m(MERGE_METHODS\u001b[38;5;241m.\u001b[39mkeys())))\n\u001b[1;32m    207\u001b[0m \u001b[38;5;66;03m# Create a dataset_opener object to use in several places in this function.\u001b[39;00m\n\u001b[0;32m--> 208\u001b[0m \u001b[38;5;28;01mif\u001b[39;00m \u001b[38;5;28misinstance\u001b[39m(\u001b[43mdatasets\u001b[49m\u001b[43m[\u001b[49m\u001b[38;5;241;43m0\u001b[39;49m\u001b[43m]\u001b[49m, (\u001b[38;5;28mstr\u001b[39m, os\u001b[38;5;241m.\u001b[39mPathLike)):\n\u001b[1;32m    209\u001b[0m     dataset_opener \u001b[38;5;241m=\u001b[39m rasterio\u001b[38;5;241m.\u001b[39mopen\n\u001b[1;32m    210\u001b[0m \u001b[38;5;28;01melse\u001b[39;00m:\n",
      "\u001b[0;31mIndexError\u001b[0m: list index out of range"
     ]
    }
   ],
   "source": [
    "for i in range(0,5): # divide in several grops (5 in this case)\n",
    "    sublist = list_files_split[i]\n",
    "    glacier_list = []\n",
    "\n",
    "    for glacier in sublist:\n",
    "        glacier_i = riox.open_rasterio(glacier)\n",
    "        glacier_i = glacier_i.rio.reproject(\"EPSG:32719\", resampling = Resampling.bilinear)\n",
    "        glacier_list.append(glacier_i)\n",
    "        \n",
    "    merged_raster = merge_arrays(dataarrays = glacier_list, res = (50, 50), crs=\"EPSG:32719\", method='max')\n",
    "    merged_raster.rio.to_raster(\"/Users/milliespencer/Desktop/data_for_preprocessing/RGI6/group_\" + str(i) + \".tif\")\n",
    "    print(i)"
   ]
  },
  {
   "cell_type": "code",
   "execution_count": null,
   "id": "07c85452-6f9f-4a35-937a-2fc3d0e3dcb2",
   "metadata": {
    "tags": []
   },
   "outputs": [],
   "source": [
    "list_files = glob.glob(\"/home/rooda/Dropbox/Patagonia/GIS South/Glaciers/group_*.tif\") # merge 5 groups\n",
    "\n",
    "glacier_list = []\n",
    "\n",
    "# Read rasters file\n",
    "for glacier in list_files:\n",
    "    glacier_i = riox.open_rasterio(glacier)\n",
    "    glacier_i = glacier_i.rio.reproject(\"EPSG:32718\", resampling = Resampling.bilinear)\n",
    "    glacier_list.append(glacier_i)\n",
    "\n",
    "# Merge/Mosaic multiple rasters using merge_arrays method of rioxarray\n",
    "merged_raster = merge_arrays(dataarrays = glacier_list, res = (100, 100), crs=\"EPSG:32718\", method='max')\n",
    "\n",
    "# Save Raster to disk\n",
    "merged_raster.rio.to_raster(\"/home/rooda/Dropbox/Patagonia/GIS South/Glaciers/Thickness_2019.tif\")"
   ]
  },
  {
   "cell_type": "code",
   "execution_count": null,
   "id": "60b109c5-978c-427a-b08f-7179394fdb41",
   "metadata": {
    "tags": []
   },
   "outputs": [],
   "source": [
    "for file in list_files: # remove temporary files\n",
    "    os.remove(file)"
   ]
  },
  {
   "cell_type": "markdown",
   "id": "828bb2b5-b656-4b23-ab7c-939cb21a7bfd",
   "metadata": {},
   "source": [
    "## Preprocess Huggonet et al. 2021 dataset"
   ]
  },
  {
   "cell_type": "code",
   "execution_count": null,
   "id": "41b32d20-95b8-46c0-9a7e-a85f6f815e67",
   "metadata": {},
   "outputs": [],
   "source": [
    "## dhdt\n",
    "list_files = glob.glob(\"/home/rooda/Dropbox/Patagonia/GIS South/Glaciers/dhdt/*.tif\")\n",
    "\n",
    "glacier_list = []\n",
    "\n",
    "# Read rasters file\n",
    "for glacier in list_files:\n",
    "    glacier_i = riox.open_rasterio(glacier)\n",
    "    glacier_i = glacier_i.rio.reproject(\"EPSG:32718\", resampling = Resampling.bilinear)\n",
    "    glacier_list.append(glacier_i)\n",
    "\n",
    "# Merge/Mosaic multiple rasters using merge_arrays method of rioxarray\n",
    "merged_raster = merge_arrays(dataarrays = glacier_list, res = (100, 100), crs=\"EPSG:32718\", method='max')\n",
    "\n",
    "# Save Raster to disk\n",
    "merged_raster.rio.to_raster(\"/home/rooda/Dropbox/Patagonia/GIS South/Glaciers/dhdt_2021.tif\")"
   ]
  },
  {
   "cell_type": "code",
   "execution_count": null,
   "id": "5bf4e140-aaf6-4256-a392-7fc6602224fa",
   "metadata": {},
   "outputs": [],
   "source": [
    "# dhdt_error\n",
    "list_files = glob.glob(\"/home/rooda/Dropbox/Patagonia/GIS South/Glaciers/dhdt_error/*.tif\")\n",
    "\n",
    "glacier_list = []\n",
    "\n",
    "# Read rasters file\n",
    "for glacier in list_files:\n",
    "    glacier_i = riox.open_rasterio(glacier)\n",
    "    glacier_i = glacier_i.rio.reproject(\"EPSG:32718\", resampling = Resampling.bilinear)\n",
    "    glacier_list.append(glacier_i)\n",
    "\n",
    "# Merge/Mosaic multiple rasters using merge_arrays method of rioxarray\n",
    "merged_raster = merge_arrays(dataarrays = glacier_list, res = (100, 100), crs=\"EPSG:32718\", method='max')\n",
    "\n",
    "# Save Raster to disk\n",
    "merged_raster.rio.to_raster(\"/home/rooda/Dropbox/Patagonia/GIS South/Glaciers/dhdt_error_2021.tif\")"
   ]
  }
 ],
 "metadata": {
  "kernelspec": {
   "display_name": "Python 3 (ipykernel)",
   "language": "python",
   "name": "python3"
  },
  "language_info": {
   "codemirror_mode": {
    "name": "ipython",
    "version": 3
   },
   "file_extension": ".py",
   "mimetype": "text/x-python",
   "name": "python",
   "nbconvert_exporter": "python",
   "pygments_lexer": "ipython3",
   "version": "3.12.4"
  },
  "toc-autonumbering": true
 },
 "nbformat": 4,
 "nbformat_minor": 5
}
