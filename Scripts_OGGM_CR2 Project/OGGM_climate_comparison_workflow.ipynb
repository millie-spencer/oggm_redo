{
 "cells": [
  {
   "cell_type": "markdown",
   "id": "1520a41f",
   "metadata": {},
   "source": [
    "Taking the workflow from 01_ and 02_ Andes written by Alexis Caro and adapting for just Cautín glaciers. Experiment to test climate database comparison \n",
    "\n",
    "* run: mamba activate oggm_env to get started"
   ]
  },
  {
   "cell_type": "code",
   "execution_count": 1,
   "id": "ed44bb84",
   "metadata": {},
   "outputs": [],
   "source": [
    "# python module import ++++++++++++++++++++++++++++++++++++++++++++++++++++++++\n",
    "from oggm import cfg, utils, workflow, tasks\n",
    "import logging\n",
    "import numpy as np\n",
    "import os\n",
    "import pandas"
   ]
  },
  {
   "cell_type": "code",
   "execution_count": 2,
   "id": "18d84211",
   "metadata": {},
   "outputs": [
    {
     "name": "stderr",
     "output_type": "stream",
     "text": [
      "2025-06-09 14:31:58: oggm.cfg: Reading default parameters from the OGGM `params.cfg` configuration file.\n",
      "2025-06-09 14:31:58: oggm.cfg: Multiprocessing switched OFF according to the parameter file.\n",
      "2025-06-09 14:31:58: oggm.cfg: Multiprocessing: using all available processors (N=8)\n",
      "2025-06-09 14:32:02: oggm.cfg: Multiprocessing switched ON after user settings.\n",
      "2025-06-09 14:32:02: oggm.cfg: PARAMS['continue_on_error'] changed from `False` to `True`.\n",
      "2025-06-09 14:32:02: oggm.cfg: WARNING: adding an unknown parameter `run_mb_calibration`:`True` to PARAMS.\n",
      "2025-06-09 14:32:02: oggm.cfg: PARAMS['store_model_geometry'] changed from `False` to `True`.\n",
      "2025-06-09 14:32:02: oggm.cfg: PARAMS['store_fl_diagnostics'] changed from `False` to `True`.\n",
      "2025-06-09 14:32:02: oggm.cfg: WARNING: adding an unknown parameter `climate_qc_months`:`3` to PARAMS.\n",
      "2025-06-09 14:32:02: oggm.cfg: PARAMS['hydro_month_nh'] changed from `10` to `1`.\n",
      "2025-06-09 14:32:02: oggm.cfg: PARAMS['hydro_month_sh'] changed from `4` to `1`.\n",
      "2025-06-09 14:32:02: oggm.cfg: WARNING: adding an unknown parameter `max_mu_star`:`600` to PARAMS.\n",
      "2025-06-09 14:32:02: oggm.cfg: PARAMS['temp_melt'] changed from `-1.0` to `0`.\n",
      "2025-06-09 14:32:02: oggm.cfg: PARAMS['cfl_min_dt'] changed from `60.0` to `10`.\n"
     ]
    }
   ],
   "source": [
    "# oggm initialization ++++++++++++++++++++++++++++++++++++++++++++++++++++++++++\n",
    "cfg.initialize(logging_level='WARNING')\n",
    "cfg.PARAMS['use_multiprocessing'] = True\n",
    "cfg.PARAMS['continue_on_error'] = True\n",
    "cfg.PARAMS['run_mb_calibration'] = True\n",
    "cfg.PARAMS['store_model_geometry'] = True\n",
    "cfg.PARAMS['border'] = 80\n",
    "cfg.PARAMS['store_fl_diagnostics'] = True\n",
    "\n",
    "cfg.PARAMS[\"climate_qc_months\"] = 3 # hugonnet \n",
    "cfg.PARAMS[\"hydro_month_nh\"] = 1 # hugonnet\n",
    "cfg.PARAMS[\"hydro_month_sh\"] = 1 # hugonnet\n",
    "cfg.PARAMS[\"max_mu_star\"] = 600\n",
    "\n",
    "cfg.PARAMS[\"temp_all_solid\"] = 0.0\n",
    "cfg.PARAMS[\"temp_all_liq\"] = 2.0 \n",
    "cfg.PARAMS[\"temp_melt\"] = 0\n",
    "\n",
    "cfg.PARAMS['cfl_min_dt'] = 10 # para simular glaciares con problemas"
   ]
  },
  {
   "cell_type": "code",
   "execution_count": 3,
   "id": "a0fdae3c",
   "metadata": {},
   "outputs": [],
   "source": [
    "# glacier call #############################\n",
    "datos_rgi = pandas.read_csv('/Users/milliespencer/Desktop/CR2_OGGM_Paper/files_chile_OGGM_climate_comparison/RGI_BNA_Clusters.csv')\n",
    "# call parameters\n",
    "datos_param = pandas.read_csv('/Users/milliespencer/Desktop/CR2_OGGM_Paper/files_chile_OGGM_climate_comparison/LR_Pf.csv')"
   ]
  },
  {
   "cell_type": "code",
   "execution_count": 4,
   "id": "995976fe",
   "metadata": {},
   "outputs": [
    {
     "name": "stderr",
     "output_type": "stream",
     "text": [
      "/var/folders/3j/6dy_9gxj7vvgct178jkkp1680000gn/T/ipykernel_97788/1109579582.py:21: FutureWarning: Calling float on a single element Series is deprecated and will raise a TypeError in the future. Use float(ser.iloc[0]) instead\n",
      "  LT_n = float(param.LR)\n",
      "/var/folders/3j/6dy_9gxj7vvgct178jkkp1680000gn/T/ipykernel_97788/1109579582.py:23: FutureWarning: Calling float on a single element Series is deprecated and will raise a TypeError in the future. Use float(ser.iloc[0]) instead\n",
      "  Pf_n = float(param.Pf)\n",
      "2025-06-09 14:32:07: oggm.cfg: WARNING: adding an unknown parameter `prcp_scaling_factor`:`1.0` to PARAMS.\n",
      "2025-06-09 14:32:07: oggm.cfg: WARNING: adding an unknown parameter `use_winter_prcp_factor`:`False` to PARAMS.\n",
      "2025-06-09 14:32:07: oggm.cfg: PARAMS['temp_default_gradient'] changed from `-0.0065` to `-0.008`.\n",
      "2025-06-09 14:32:07: oggm.cfg: PARAMS['prcp_scaling_factor'] changed from `1.0` to `2.0`.\n",
      "2025-06-09 14:32:07: oggm.cfg: PARAMS['temp_default_gradient'] changed from `-0.008` to `-0.0065`.\n",
      "2025-06-09 14:32:07: oggm.cfg: PARAMS['prcp_scaling_factor'] changed from `2.0` to `1.0`.\n"
     ]
    }
   ],
   "source": [
    "# # INICIO ITERACION por region GLACIO +++++++++++++++++++++++++++++++++++++++++++++++++++++++++++++++++++++++++++++++++++\n",
    "\n",
    "# listas de llamado\n",
    "list_region = ['OT3','DA1','DA2','DA3','WA1','WA2','WA3','WA4','WA5','WA6']\n",
    "\n",
    "\n",
    "for zona in list_region:\n",
    "    \n",
    "# directorio\n",
    "#    zona = 'OT3'\n",
    "    # salida = '/home/caro/04_Andes_2000_2019_CR2_2023/' + zona + '/'\n",
    "    salida = '/Users/milliespencer/Desktop/CR2_OGGM_Paper/files_chile_OGGM_climate_comparison' + zona + '/'\n",
    "    cfg.PATHS['working_dir'] = salida                                 \n",
    "\n",
    "# extraccion de glaciares por zona\n",
    "    gdf_sel = datos_rgi[datos_rgi['Cluster'] == zona]\n",
    "    gdf_sel = list(gdf_sel.RGIId)\n",
    "    \n",
    "# se extrae LT usando id glaciar\n",
    "    param = datos_param[datos_param['Cluster'] == zona]\n",
    "    LT_n = float(param.LR)\n",
    "# se extrae Pf \n",
    "    Pf_n = float(param.Pf)\n",
    "\n",
    "    # definion LT en modelo\n",
    "    cfg.PARAMS[\"temp_default_gradient\"] = LT_n\n",
    "    cfg.PARAMS[\"prcp_scaling_factor\"] = Pf_n\n",
    "    cfg.PARAMS['use_winter_prcp_factor'] = False\n",
    "    "
   ]
  },
  {
   "cell_type": "code",
   "execution_count": 5,
   "id": "eae6cb0f",
   "metadata": {},
   "outputs": [
    {
     "data": {
      "text/plain": [
       "'/Users/milliespencer/Desktop/CR2_OGGM_Paper/files_chile_OGGM_climate_comparisonWA6/RGI_WA6/b_080/L3/summary'"
      ]
     },
     "execution_count": 5,
     "metadata": {},
     "output_type": "execute_result"
    }
   ],
   "source": [
    "###\n",
    "### LLAMADO PERIODO 2000-2019 +++++++++++++++++++++++++++++++++++++++++++++++++\n",
    "###\n",
    "    # Guardado statistics\n",
    "output_folder= salida\n",
    "rgi_version  = '_'+ zona\n",
    "border = 80\n",
    "output_base_dir = os.path.join(output_folder,'RGI{}'.format(rgi_version), 'b_{:03d}'.format(border))\n",
    "sum_dir = os.path.join(output_base_dir, 'L3', 'summary')\n",
    "utils.mkdir(sum_dir)"
   ]
  },
  {
   "cell_type": "code",
   "execution_count": null,
   "id": "77693dd0",
   "metadata": {},
   "outputs": [
    {
     "name": "stderr",
     "output_type": "stream",
     "text": [
      "2025-06-09 14:48:44: oggm.workflow: init_glacier_directories from prepro level 2 on 2671 glaciers.\n",
      "2025-06-09 14:48:44: oggm.workflow: Execute entity tasks [gdir_from_prepro] on 2671 glaciers\n"
     ]
    }
   ],
   "source": [
    "    # Level = 2 2000-2019+++++++++++++++++++++++++++++++++++++++++++++++++++++++++++++++++++\n",
    "#    gdirs = workflow.init_glacier_directories(gdf_sel, from_prepro_level=2)\n",
    "    \n",
    "gdirs = workflow.init_glacier_directories(gdf_sel, from_prepro_level=2,\n",
    "                                              prepro_base_url='https://cluster.klima.uni-bremen.de/~oggm/gdirs/oggm_v1.6/L1-L2_files/centerlines/',\n",
    "                                              prepro_border=80)"
   ]
  },
  {
   "cell_type": "code",
   "execution_count": null,
   "id": "ddea0aa6",
   "metadata": {},
   "outputs": [
    {
     "name": "stderr",
     "output_type": "stream",
     "text": [
      "/var/folders/3j/6dy_9gxj7vvgct178jkkp1680000gn/T/ipykernel_97355/3174518385.py:21: FutureWarning: Calling float on a single element Series is deprecated and will raise a TypeError in the future. Use float(ser.iloc[0]) instead\n",
      "  LT_n = float(param.LR)\n",
      "/var/folders/3j/6dy_9gxj7vvgct178jkkp1680000gn/T/ipykernel_97355/3174518385.py:23: FutureWarning: Calling float on a single element Series is deprecated and will raise a TypeError in the future. Use float(ser.iloc[0]) instead\n",
      "  Pf_n = float(param.Pf)\n",
      "2025-05-22 17:39:37: oggm.workflow: init_glacier_directories from prepro level 2 on 0 glaciers.\n",
      "2025-05-22 17:39:37: oggm.workflow: Called execute_entity_task on 0 glaciers. Returning...\n",
      "2025-05-22 17:39:37: oggm.cfg: PARAMS['baseline_climate'] changed from `ERA5L` to `W5E5`.\n",
      "2025-05-22 17:39:37: oggm.workflow: Execute entity tasks [process_ecmwf_data] on 1 glaciers\n"
     ]
    },
    {
     "ename": "AttributeError",
     "evalue": "'NoneType' object has no attribute 'get_task_status'",
     "output_type": "error",
     "traceback": [
      "\u001b[0;31m---------------------------------------------------------------------------\u001b[0m",
      "\u001b[0;31mAttributeError\u001b[0m                            Traceback (most recent call last)",
      "Cell \u001b[0;32mIn[34], line 61\u001b[0m\n\u001b[1;32m     59\u001b[0m cfg\u001b[38;5;241m.\u001b[39mPARAMS[\u001b[38;5;124m'\u001b[39m\u001b[38;5;124mbaseline_climate\u001b[39m\u001b[38;5;124m'\u001b[39m] \u001b[38;5;241m=\u001b[39m \u001b[38;5;124m'\u001b[39m\u001b[38;5;124mW5E5\u001b[39m\u001b[38;5;124m'\u001b[39m\n\u001b[1;32m     60\u001b[0m \u001b[38;5;28;01mfrom\u001b[39;00m \u001b[38;5;21;01moggm\u001b[39;00m\u001b[38;5;21;01m.\u001b[39;00m\u001b[38;5;21;01mshop\u001b[39;00m \u001b[38;5;28;01mimport\u001b[39;00m ecmwf\n\u001b[0;32m---> 61\u001b[0m \u001b[43mworkflow\u001b[49m\u001b[38;5;241;43m.\u001b[39;49m\u001b[43mexecute_entity_task\u001b[49m\u001b[43m(\u001b[49m\u001b[43mecmwf\u001b[49m\u001b[38;5;241;43m.\u001b[39;49m\u001b[43mprocess_ecmwf_data\u001b[49m\u001b[43m,\u001b[49m\u001b[43m \u001b[49m\u001b[43mgdirs\u001b[49m\u001b[43m)\u001b[49m \u001b[38;5;66;03m# ,output_filesuffix='_cr2met'\u001b[39;00m\n\u001b[1;32m     62\u001b[0m utils\u001b[38;5;241m.\u001b[39mget_geodetic_mb_dataframe()  \u001b[38;5;66;03m# Small optim to avoid concurrency\u001b[39;00m\n\u001b[1;32m     63\u001b[0m workflow\u001b[38;5;241m.\u001b[39mexecute_entity_task(tasks\u001b[38;5;241m.\u001b[39mmu_star_calibration_from_geodetic_mb, gdirs,ref_period\u001b[38;5;241m=\u001b[39m\u001b[38;5;124m'\u001b[39m\u001b[38;5;124m2000-01-01_2020-01-01\u001b[39m\u001b[38;5;124m'\u001b[39m) \u001b[38;5;66;03m# edit climate.py Between lines 539 and 554\u001b[39;00m\n",
      "File \u001b[0;32m~/Desktop/GitHub/oggm_redo/oggm/workflow.py:192\u001b[0m, in \u001b[0;36mexecute_entity_task\u001b[0;34m(task, gdirs, **kwargs)\u001b[0m\n\u001b[1;32m    188\u001b[0m     \u001b[38;5;28;01mif\u001b[39;00m ng \u001b[38;5;241m>\u001b[39m \u001b[38;5;241m3\u001b[39m:\n\u001b[1;32m    189\u001b[0m         log\u001b[38;5;241m.\u001b[39mworkflow(\u001b[38;5;124m'\u001b[39m\u001b[38;5;124mWARNING: you are trying to run an entity task on \u001b[39m\u001b[38;5;124m'\u001b[39m\n\u001b[1;32m    190\u001b[0m                      \u001b[38;5;124m'\u001b[39m\u001b[38;5;132;01m%d\u001b[39;00m\u001b[38;5;124m glaciers with multiprocessing turned off. OGGM \u001b[39m\u001b[38;5;124m'\u001b[39m\n\u001b[1;32m    191\u001b[0m                      \u001b[38;5;124m'\u001b[39m\u001b[38;5;124mwill run faster with multiprocessing turned on.\u001b[39m\u001b[38;5;124m'\u001b[39m, ng)\n\u001b[0;32m--> 192\u001b[0m     out \u001b[38;5;241m=\u001b[39m [\u001b[43mpc\u001b[49m\u001b[43m(\u001b[49m\u001b[43mgdir\u001b[49m\u001b[43m)\u001b[49m \u001b[38;5;28;01mfor\u001b[39;00m gdir \u001b[38;5;129;01min\u001b[39;00m gdirs]\n\u001b[1;32m    194\u001b[0m \u001b[38;5;28;01mreturn\u001b[39;00m out\n",
      "File \u001b[0;32m~/Desktop/GitHub/oggm_redo/oggm/workflow.py:109\u001b[0m, in \u001b[0;36m_pickle_copier.__call__\u001b[0;34m(self, arg)\u001b[0m\n\u001b[1;32m    107\u001b[0m \u001b[38;5;28;01mfor\u001b[39;00m func \u001b[38;5;129;01min\u001b[39;00m \u001b[38;5;28mself\u001b[39m\u001b[38;5;241m.\u001b[39mcall_func:\n\u001b[1;32m    108\u001b[0m     func, kwargs \u001b[38;5;241m=\u001b[39m func\n\u001b[0;32m--> 109\u001b[0m     res \u001b[38;5;241m=\u001b[39m \u001b[38;5;28;43mself\u001b[39;49m\u001b[38;5;241;43m.\u001b[39;49m\u001b[43m_call_internal\u001b[49m\u001b[43m(\u001b[49m\u001b[43mfunc\u001b[49m\u001b[43m,\u001b[49m\u001b[43m \u001b[49m\u001b[43marg\u001b[49m\u001b[43m,\u001b[49m\u001b[43m \u001b[49m\u001b[43mkwargs\u001b[49m\u001b[43m)\u001b[49m\n\u001b[1;32m    110\u001b[0m \u001b[38;5;28;01mreturn\u001b[39;00m res\n",
      "File \u001b[0;32m~/Desktop/GitHub/oggm_redo/oggm/workflow.py:103\u001b[0m, in \u001b[0;36m_pickle_copier._call_internal\u001b[0;34m(self, call_func, gdir, kwargs)\u001b[0m\n\u001b[1;32m    100\u001b[0m     gdir, gdir_kwargs \u001b[38;5;241m=\u001b[39m gdir\n\u001b[1;32m    101\u001b[0m     kwargs\u001b[38;5;241m.\u001b[39mupdate(gdir_kwargs)\n\u001b[0;32m--> 103\u001b[0m \u001b[38;5;28;01mreturn\u001b[39;00m \u001b[43mcall_func\u001b[49m\u001b[43m(\u001b[49m\u001b[43mgdir\u001b[49m\u001b[43m,\u001b[49m\u001b[43m \u001b[49m\u001b[38;5;241;43m*\u001b[39;49m\u001b[38;5;241;43m*\u001b[39;49m\u001b[43mkwargs\u001b[49m\u001b[43m)\u001b[49m\n",
      "File \u001b[0;32m~/Desktop/GitHub/oggm_redo/oggm/utils/_workflow.py:478\u001b[0m, in \u001b[0;36mentity_task.__call__.<locals>._entity_task\u001b[0;34m(gdir, reset, print_log, return_value, continue_on_error, add_to_log_file, **kwargs)\u001b[0m\n\u001b[1;32m    475\u001b[0m     task_name \u001b[38;5;241m+\u001b[39m\u001b[38;5;241m=\u001b[39m fsuffix\n\u001b[1;32m    477\u001b[0m \u001b[38;5;66;03m# Do we need to run this task?\u001b[39;00m\n\u001b[0;32m--> 478\u001b[0m s \u001b[38;5;241m=\u001b[39m \u001b[43mgdir\u001b[49m\u001b[38;5;241;43m.\u001b[39;49m\u001b[43mget_task_status\u001b[49m(task_name)\n\u001b[1;32m    479\u001b[0m \u001b[38;5;28;01mif\u001b[39;00m \u001b[38;5;129;01mnot\u001b[39;00m reset \u001b[38;5;129;01mand\u001b[39;00m s \u001b[38;5;129;01mand\u001b[39;00m (\u001b[38;5;124m'\u001b[39m\u001b[38;5;124mSUCCESS\u001b[39m\u001b[38;5;124m'\u001b[39m \u001b[38;5;129;01min\u001b[39;00m s):\n\u001b[1;32m    480\u001b[0m     \u001b[38;5;28;01mreturn\u001b[39;00m\n",
      "\u001b[0;31mAttributeError\u001b[0m: 'NoneType' object has no attribute 'get_task_status'"
     ]
    }
   ],
   "source": [
    "# # INICIO ITERACION por region GLACIO +++++++++++++++++++++++++++++++++++++++++++++++++++++++++++++++++++++++++++++++++++\n",
    "\n",
    "# listas de llamado\n",
    "list_region = ['OT3','DA1','DA2','DA3','WA1','WA2','WA3','WA4','WA5','WA6']\n",
    "\n",
    "\n",
    "for zona in list_region:\n",
    "    \n",
    "# directorio\n",
    "#    zona = 'OT3'\n",
    "    # salida = '/home/caro/04_Andes_2000_2019_CR2_2023/' + zona + '/'\n",
    "    salida = '/Users/milliespencer/Desktop/files_chile_OGGM_climate_comparison' + zona + '/'\n",
    "    cfg.PATHS['working_dir'] = salida                                 \n",
    "\n",
    "# extraccion de glaciares por zona\n",
    "    gdf_sel = datos_rgi[datos_rgi['Cluster'] == zona]\n",
    "    gdf_sel = list(gdf_sel.RGIId)\n",
    "    \n",
    "# se extrae LT usando id glaciar\n",
    "    param = datos_param[datos_param['Cluster'] == zona]\n",
    "    LT_n = float(param.LR)\n",
    "# se extrae Pf \n",
    "    Pf_n = float(param.Pf)\n",
    "\n",
    "    # definion LT en modelo\n",
    "    cfg.PARAMS[\"temp_default_gradient\"] = LT_n\n",
    "    cfg.PARAMS[\"prcp_scaling_factor\"] = Pf_n\n",
    "    cfg.PARAMS['use_winter_prcp_factor'] = False\n",
    "    \n",
    "        \n",
    "###\n",
    "### LLAMADO PERIODO 2000-2019 +++++++++++++++++++++++++++++++++++++++++++++++++\n",
    "###\n",
    "    # Guardado statistics\n",
    "    output_folder= salida\n",
    "    rgi_version  = '_'+ zona\n",
    "    border = 80\n",
    "    output_base_dir = os.path.join(output_folder,'RGI{}'.format(rgi_version), 'b_{:03d}'.format(border))\n",
    "    sum_dir = os.path.join(output_base_dir, 'L3', 'summary')\n",
    "    utils.mkdir(sum_dir)\n",
    "\n",
    "    # Level = 2 2000-2019+++++++++++++++++++++++++++++++++++++++++++++++++++++++++++++++++++\n",
    "#    gdirs = workflow.init_glacier_directories(gdf_sel, from_prepro_level=2)\n",
    "    \n",
    "    gdirs = workflow.init_glacier_directories(gdf_sel, from_prepro_level=2,\n",
    "                                              prepro_base_url='https://cluster.klima.uni-bremen.de/~oggm/gdirs/oggm_v1.6/L1-L2_files/centerlines/',\n",
    "                                              prepro_border=80)\n",
    "    \n",
    "       # Climate CR2\n",
    "    cfg.PARAMS['baseline_climate'] = 'CR2MET25'\n",
    "    from oggm.shop import cr2met_25\n",
    "    workflow.execute_entity_task(cr2met_25.process_cr2met_25_data, gdirs) # ,output_filesuffix='_cr2met'\n",
    "    utils.get_geodetic_mb_dataframe()  # Small optim to avoid concurrency\n",
    "    workflow.execute_entity_task(tasks.mu_star_calibration_from_geodetic_mb, gdirs,ref_period='2000-01-01_2020-01-01') # edit climate.py Between lines 539 and 554\n",
    "    workflow.execute_entity_task(tasks.apparent_mb_from_any_mb, gdirs)\n",
    "    \n",
    "    \n",
    "       # Climate ERA5\n",
    "    cfg.PARAMS['baseline_climate'] = 'ERA5'\n",
    "    from oggm.shop import ecmwf\n",
    "    workflow.execute_entity_task(ecmwf.process_ecmwf_data, gdirs) # ,output_filesuffix='_cr2met'\n",
    "    utils.get_geodetic_mb_dataframe()  # Small optim to avoid concurrency\n",
    "    workflow.execute_entity_task(tasks.mu_star_calibration_from_geodetic_mb, gdirs,ref_period='2000-01-01_2020-01-01') # edit climate.py Between lines 539 and 554\n",
    "    workflow.execute_entity_task(tasks.apparent_mb_from_any_mb, gdirs)\n",
    "\n",
    "    filter = border >= 20\n",
    "    workflow.calibrate_inversion_from_consensus(gdirs,apply_fs_on_mismatch=True,error_on_mismatch=False,filter_inversion_output=filter)\n",
    "         \n",
    "        # We get ready for modelling\n",
    "    log = logging.getLogger(__name__)     \n",
    "    if border >= 20:\n",
    "                workflow.execute_entity_task(tasks.init_present_time_glacier, gdirs)\n",
    "    else:\n",
    "        log.workflow('L3: for map border values < 20, wont initialize glaciers '\n",
    "                      'for the run.')\n",
    "    \n",
    "    compilacion = '_2000_2019_hydro_TC_'+ zona \n",
    "    # save outputs 2000-2019\n",
    "    workflow.execute_entity_task (tasks.run_with_hydro, gdirs,\n",
    "                         ys=1999,     \n",
    "                         run_task = tasks.run_from_climate_data,          # The task to run with hydro\n",
    "                         store_monthly_hydro = True,                      # compute monthly hydro diagnostics\n",
    "                         ref_area_from_y0 = True,                           # Even if the glacier may grow, keep the reference area as the year 0 of the simulation\n",
    "                         output_filesuffix = compilacion,                # Where to write the output - this is needed to stitch the runs together afterwards\n",
    "                         );\n",
    "\n",
    "    # Guardado glacier statistics \n",
    "    rgi_reg = '_' + zona\n",
    "    opath = os.path.join(sum_dir, 'glacier_statistics_{}.csv'.format(rgi_reg))\n",
    "    utils.compile_glacier_statistics(gdirs, path=opath)\n",
    "    mb_dif = utils.compile_glacier_statistics(gdirs, path=opath)\n",
    "    opath = os.path.join(sum_dir, 'climate_statistics_{}.csv'.format(rgi_reg))\n",
    "    utils.compile_climate_statistics(gdirs, path=opath)\n",
    "    opath = os.path.join(sum_dir, 'fixed_geometry_mass_balance_{}.csv'.format(rgi_reg))\n",
    "    utils.compile_fixed_geometry_mass_balance(gdirs, path=opath)\n",
    "    \n",
    "    # compilación datos en un archivo\n",
    "    ds2000 = utils.compile_run_output(gdirs, input_filesuffix= compilacion )"
   ]
  }
 ],
 "metadata": {
  "kernelspec": {
   "display_name": "oggm_env",
   "language": "python",
   "name": "python3"
  },
  "language_info": {
   "codemirror_mode": {
    "name": "ipython",
    "version": 3
   },
   "file_extension": ".py",
   "mimetype": "text/x-python",
   "name": "python",
   "nbconvert_exporter": "python",
   "pygments_lexer": "ipython3",
   "version": "3.13.2"
  }
 },
 "nbformat": 4,
 "nbformat_minor": 5
}
