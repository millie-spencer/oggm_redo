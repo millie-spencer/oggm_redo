{
 "cells": [
  {
   "cell_type": "markdown",
   "id": "4bc6ce84-95d4-448e-a489-dbe3c4e9cb19",
   "metadata": {},
   "source": [
    "# OGGM setup"
   ]
  },
  {
   "cell_type": "code",
   "execution_count": 3,
   "id": "1dcf4865-6547-405c-9293-8e169f3cf18e",
   "metadata": {
    "tags": []
   },
   "outputs": [],
   "source": [
    "# basic\n",
    "import os \n",
    "import psutil\n",
    "import pandas as pd\n",
    "import numpy as np\n",
    "from glob import glob\n",
    "from datetime import datetime\n",
    "from tqdm import tqdm\n",
    "\n",
    "# geospatial\n",
    "import xarray as xr\n",
    "import geopandas as gpd\n",
    "\n",
    "# oggm\n",
    "from oggm import cfg, utils, workflow, tasks"
   ]
  },
  {
   "cell_type": "markdown",
   "id": "e8cfda8d-e16e-4934-9f39-fe1a40a325b3",
   "metadata": {},
   "source": [
    "## Setup and possible options "
   ]
  },
  {
   "cell_type": "code",
   "execution_count": 2,
   "id": "488588d4-5f19-4d5c-8b48-19941e5eccd7",
   "metadata": {},
   "outputs": [
    {
     "name": "stderr",
     "output_type": "stream",
     "text": [
      "2024-10-10 14:03:56: oggm.cfg: Reading default parameters from the OGGM `params.cfg` configuration file.\n",
      "2024-10-10 14:03:56: oggm.cfg: Multiprocessing switched OFF according to the parameter file.\n",
      "2024-10-10 14:03:56: oggm.cfg: Multiprocessing: using all available processors (N=8)\n",
      "/   0.0 B Elapsed Time: 0:00:00\n",
      "|  -1.0 B Elapsed Time: 0:00:02\n",
      "2024-10-10 14:03:59: oggm.cfg: Multiprocessing switched ON after user settings.\n",
      "2024-10-10 14:03:59: oggm.cfg: PARAMS['baseline_climate'] changed from `GSWP3_W5E5` to ``.\n",
      "2024-10-10 14:03:59: oggm.cfg: WARNING: adding an unknown parameter `prcp_scaling_factor`:`1` to PARAMS.\n",
      "2024-10-10 14:03:59: oggm.cfg: PARAMS['hydro_month_sh'] changed from `4` to `1`.\n",
      "2024-10-10 14:03:59: oggm.cfg: PARAMS['hydro_month_nh'] changed from `10` to `1`.\n",
      "2024-10-10 14:03:59: oggm.cfg: WARNING: adding an unknown parameter `min_mu_star`:`5` to PARAMS.\n",
      "2024-10-10 14:03:59: oggm.cfg: WARNING: adding an unknown parameter `max_mu_star`:`800` to PARAMS.\n",
      "2024-10-10 14:03:59: oggm.cfg: PARAMS['store_model_geometry'] changed from `False` to `True`.\n",
      "2024-10-10 14:03:59: oggm.cfg: PARAMS['continue_on_error'] changed from `False` to `True`.\n",
      "2024-10-10 14:03:59: oggm.cfg: WARNING: adding an unknown parameter `use_winter_prcp_factor`:`False` to PARAMS.\n",
      "2024-10-10 14:03:59: oggm.cfg: PARAMS['rgi_version'] changed from `62` to `62`.\n"
     ]
    }
   ],
   "source": [
    "# cfg.initialize(logging_level='WORKFLOW', future = True) # new OGGM verion doesn't have future command \n",
    "cfg.initialize(logging_level='WORKFLOW')\n",
    "\n",
    "cfg.PARAMS['use_multiprocessing']  = True\n",
    "cfg.PARAMS['baseline_climate']     = ''\n",
    "cfg.PARAMS['prcp_scaling_factor']  = 1\n",
    "cfg.PARAMS['hydro_month_sh']       = 1\n",
    "cfg.PARAMS['hydro_month_nh']       = 1\n",
    "cfg.PARAMS['border']               = 80\n",
    "cfg.PARAMS['min_mu_star']          = 5\n",
    "cfg.PARAMS['max_mu_star']          = 800\n",
    "cfg.PARAMS['geodetic_mb_period']   = '2000-01-01_2020-01-01' \n",
    "cfg.PARAMS['store_model_geometry'] = True\n",
    "cfg.PARAMS['continue_on_error']    = True\n",
    "cfg.PARAMS['use_winter_prcp_factor'] = False\n",
    "cfg.PARAMS['use_rgi_area'] = True\n",
    "cfg.PARAMS['use_intersects'] = True\n",
    "cfg.PARAMS['rgi_version'] = 62"
   ]
  },
  {
   "cell_type": "code",
   "execution_count": 4,
   "id": "fdc11950-8221-49e2-86bc-52263f7c6a02",
   "metadata": {
    "tags": []
   },
   "outputs": [
    {
     "name": "stderr",
     "output_type": "stream",
     "text": [
      "2024-10-10 13:43:41: oggm.workflow: init_glacier_directories from prepro level 2 on 5 glaciers.\n",
      "2024-10-10 13:43:41: oggm.workflow: Execute entity tasks [gdir_from_prepro] on 5 glaciers\n"
     ]
    },
    {
     "ename": "RuntimeError",
     "evalue": "Could not find file at https://cluster.klima.uni-bremen.de/~oggm/gdirs/oggm_v1.6/L1-L2_files/elev_bands/RGI62/b_080/L2/list/list.tar",
     "output_type": "error",
     "traceback": [
      "\u001b[0;31m---------------------------------------------------------------------------\u001b[0m",
      "\u001b[0;31mRemoteTraceback\u001b[0m                           Traceback (most recent call last)",
      "\u001b[0;31mRemoteTraceback\u001b[0m: \n\"\"\"\nTraceback (most recent call last):\n  File \"/Users/milliespencer/miniconda3/envs/oggm_env/lib/python3.12/multiprocessing/pool.py\", line 125, in worker\n    result = (True, func(*args, **kwds))\n                    ^^^^^^^^^^^^^^^^^^^\n  File \"/Users/milliespencer/miniconda3/envs/oggm_env/lib/python3.12/multiprocessing/pool.py\", line 48, in mapstar\n    return list(map(*args))\n           ^^^^^^^^^^^^^^^^\n  File \"/Users/milliespencer/Desktop/GitHub/oggm_redo/oggm/workflow.py\", line 109, in __call__\n    res = self._call_internal(func, arg, kwargs)\n          ^^^^^^^^^^^^^^^^^^^^^^^^^^^^^^^^^^^^^^\n  File \"/Users/milliespencer/Desktop/GitHub/oggm_redo/oggm/workflow.py\", line 103, in _call_internal\n    return call_func(gdir, **kwargs)\n           ^^^^^^^^^^^^^^^^^^^^^^^^^\n  File \"/Users/milliespencer/Desktop/GitHub/oggm_redo/oggm/workflow.py\", line 253, in gdir_from_prepro\n    tar_base = utils.get_prepro_gdir(prepro_rgi_version, rid, prepro_border,\n               ^^^^^^^^^^^^^^^^^^^^^^^^^^^^^^^^^^^^^^^^^^^^^^^^^^^^^^^^^^^^^\n  File \"/Users/milliespencer/Desktop/GitHub/oggm_redo/oggm/utils/_downloads.py\", line 1257, in get_prepro_gdir\n    return _get_prepro_gdir_unlocked(rgi_version, rgi_id, border,\n           ^^^^^^^^^^^^^^^^^^^^^^^^^^^^^^^^^^^^^^^^^^^^^^^^^^^^^^\n  File \"/Users/milliespencer/Desktop/GitHub/oggm_redo/oggm/utils/_downloads.py\", line 1298, in _get_prepro_gdir_unlocked\n    raise RuntimeError('Could not find file at ' + url)\nRuntimeError: Could not find file at https://cluster.klima.uni-bremen.de/~oggm/gdirs/oggm_v1.6/L1-L2_files/elev_bands/RGI62/b_080/L2/list/list.tar\n\"\"\"",
      "\nThe above exception was the direct cause of the following exception:\n",
      "\u001b[0;31mRuntimeError\u001b[0m                              Traceback (most recent call last)",
      "Cell \u001b[0;32mIn[4], line 8\u001b[0m\n\u001b[1;32m      6\u001b[0m \u001b[38;5;66;03m# init directories\u001b[39;00m\n\u001b[1;32m      7\u001b[0m base_url \u001b[38;5;241m=\u001b[39m \u001b[38;5;124m'\u001b[39m\u001b[38;5;124mhttps://cluster.klima.uni-bremen.de/~oggm/gdirs/oggm_v1.6/L1-L2_files/elev_bands/\u001b[39m\u001b[38;5;124m'\u001b[39m \u001b[38;5;66;03m# RGI 62\u001b[39;00m\n\u001b[0;32m----> 8\u001b[0m gdirs \u001b[38;5;241m=\u001b[39m \u001b[43mworkflow\u001b[49m\u001b[38;5;241;43m.\u001b[39;49m\u001b[43minit_glacier_directories\u001b[49m\u001b[43m(\u001b[49m\u001b[43mids\u001b[49m\u001b[43m,\u001b[49m\u001b[43m \u001b[49m\u001b[43mfrom_prepro_level\u001b[49m\u001b[38;5;241;43m=\u001b[39;49m\u001b[38;5;241;43m2\u001b[39;49m\u001b[43m,\u001b[49m\u001b[43m \u001b[49m\u001b[43mprepro_border\u001b[49m\u001b[43m \u001b[49m\u001b[38;5;241;43m=\u001b[39;49m\u001b[43m \u001b[49m\u001b[38;5;241;43m80\u001b[39;49m\u001b[43m,\u001b[49m\u001b[43m \u001b[49m\u001b[43mprepro_base_url\u001b[49m\u001b[43m \u001b[49m\u001b[38;5;241;43m=\u001b[39;49m\u001b[43m \u001b[49m\u001b[43mbase_url\u001b[49m\u001b[43m)\u001b[49m\n\u001b[1;32m     10\u001b[0m \u001b[38;5;66;03m# write climate file for each glacier\u001b[39;00m\n\u001b[1;32m     11\u001b[0m workflow\u001b[38;5;241m.\u001b[39mexecute_entity_task(tasks\u001b[38;5;241m.\u001b[39mprocess_custom_climate_data, gdirs);\n",
      "File \u001b[0;32m~/Desktop/GitHub/oggm_redo/oggm/workflow.py:427\u001b[0m, in \u001b[0;36minit_glacier_directories\u001b[0;34m(rgidf, reset, force, from_prepro_level, prepro_border, prepro_rgi_version, prepro_base_url, from_tar, delete_tar)\u001b[0m\n\u001b[1;32m    425\u001b[0m     \u001b[38;5;28;01mif\u001b[39;00m cfg\u001b[38;5;241m.\u001b[39mPARAMS[\u001b[38;5;124m'\u001b[39m\u001b[38;5;124mdl_verify\u001b[39m\u001b[38;5;124m'\u001b[39m]:\n\u001b[1;32m    426\u001b[0m         utils\u001b[38;5;241m.\u001b[39mget_dl_verify_data(\u001b[38;5;124m'\u001b[39m\u001b[38;5;124mcluster.klima.uni-bremen.de\u001b[39m\u001b[38;5;124m'\u001b[39m)\n\u001b[0;32m--> 427\u001b[0m     gdirs \u001b[38;5;241m=\u001b[39m \u001b[43mexecute_entity_task\u001b[49m\u001b[43m(\u001b[49m\u001b[43mgdir_from_prepro\u001b[49m\u001b[43m,\u001b[49m\u001b[43m \u001b[49m\u001b[43mentities\u001b[49m\u001b[43m,\u001b[49m\n\u001b[1;32m    428\u001b[0m \u001b[43m                                \u001b[49m\u001b[43mfrom_prepro_level\u001b[49m\u001b[38;5;241;43m=\u001b[39;49m\u001b[43mfrom_prepro_level\u001b[49m\u001b[43m,\u001b[49m\n\u001b[1;32m    429\u001b[0m \u001b[43m                                \u001b[49m\u001b[43mprepro_border\u001b[49m\u001b[38;5;241;43m=\u001b[39;49m\u001b[43mprepro_border\u001b[49m\u001b[43m,\u001b[49m\n\u001b[1;32m    430\u001b[0m \u001b[43m                                \u001b[49m\u001b[43mprepro_rgi_version\u001b[49m\u001b[38;5;241;43m=\u001b[39;49m\u001b[43mprepro_rgi_version\u001b[49m\u001b[43m,\u001b[49m\n\u001b[1;32m    431\u001b[0m \u001b[43m                                \u001b[49m\u001b[43mbase_url\u001b[49m\u001b[38;5;241;43m=\u001b[39;49m\u001b[43mprepro_base_url\u001b[49m\u001b[43m)\u001b[49m\n\u001b[1;32m    432\u001b[0m \u001b[38;5;28;01melse\u001b[39;00m:\n\u001b[1;32m    433\u001b[0m     \u001b[38;5;66;03m# We can set the intersects file automatically here\u001b[39;00m\n\u001b[1;32m    434\u001b[0m     \u001b[38;5;28;01mif\u001b[39;00m (cfg\u001b[38;5;241m.\u001b[39mPARAMS[\u001b[38;5;124m'\u001b[39m\u001b[38;5;124muse_intersects\u001b[39m\u001b[38;5;124m'\u001b[39m] \u001b[38;5;129;01mand\u001b[39;00m\n\u001b[1;32m    435\u001b[0m             \u001b[38;5;28mlen\u001b[39m(cfg\u001b[38;5;241m.\u001b[39mPARAMS[\u001b[38;5;124m'\u001b[39m\u001b[38;5;124mintersects_gdf\u001b[39m\u001b[38;5;124m'\u001b[39m]) \u001b[38;5;241m==\u001b[39m \u001b[38;5;241m0\u001b[39m \u001b[38;5;129;01mand\u001b[39;00m\n\u001b[1;32m    436\u001b[0m             \u001b[38;5;129;01mnot\u001b[39;00m from_tar):\n",
      "File \u001b[0;32m~/Desktop/GitHub/oggm_redo/oggm/workflow.py:186\u001b[0m, in \u001b[0;36mexecute_entity_task\u001b[0;34m(task, gdirs, **kwargs)\u001b[0m\n\u001b[1;32m    184\u001b[0m \u001b[38;5;28;01mif\u001b[39;00m cfg\u001b[38;5;241m.\u001b[39mPARAMS[\u001b[38;5;124m'\u001b[39m\u001b[38;5;124muse_multiprocessing\u001b[39m\u001b[38;5;124m'\u001b[39m] \u001b[38;5;129;01mand\u001b[39;00m ng \u001b[38;5;241m>\u001b[39m \u001b[38;5;241m1\u001b[39m:\n\u001b[1;32m    185\u001b[0m     mppool \u001b[38;5;241m=\u001b[39m init_mp_pool(cfg\u001b[38;5;241m.\u001b[39mCONFIG_MODIFIED)\n\u001b[0;32m--> 186\u001b[0m     out \u001b[38;5;241m=\u001b[39m \u001b[43mmppool\u001b[49m\u001b[38;5;241;43m.\u001b[39;49m\u001b[43mmap\u001b[49m\u001b[43m(\u001b[49m\u001b[43mpc\u001b[49m\u001b[43m,\u001b[49m\u001b[43m \u001b[49m\u001b[43mgdirs\u001b[49m\u001b[43m,\u001b[49m\u001b[43m \u001b[49m\u001b[43mchunksize\u001b[49m\u001b[38;5;241;43m=\u001b[39;49m\u001b[38;5;241;43m1\u001b[39;49m\u001b[43m)\u001b[49m\n\u001b[1;32m    187\u001b[0m \u001b[38;5;28;01melse\u001b[39;00m:\n\u001b[1;32m    188\u001b[0m     \u001b[38;5;28;01mif\u001b[39;00m ng \u001b[38;5;241m>\u001b[39m \u001b[38;5;241m3\u001b[39m:\n",
      "File \u001b[0;32m~/miniconda3/envs/oggm_env/lib/python3.12/multiprocessing/pool.py:367\u001b[0m, in \u001b[0;36mPool.map\u001b[0;34m(self, func, iterable, chunksize)\u001b[0m\n\u001b[1;32m    362\u001b[0m \u001b[38;5;28;01mdef\u001b[39;00m \u001b[38;5;21mmap\u001b[39m(\u001b[38;5;28mself\u001b[39m, func, iterable, chunksize\u001b[38;5;241m=\u001b[39m\u001b[38;5;28;01mNone\u001b[39;00m):\n\u001b[1;32m    363\u001b[0m \u001b[38;5;250m    \u001b[39m\u001b[38;5;124;03m'''\u001b[39;00m\n\u001b[1;32m    364\u001b[0m \u001b[38;5;124;03m    Apply `func` to each element in `iterable`, collecting the results\u001b[39;00m\n\u001b[1;32m    365\u001b[0m \u001b[38;5;124;03m    in a list that is returned.\u001b[39;00m\n\u001b[1;32m    366\u001b[0m \u001b[38;5;124;03m    '''\u001b[39;00m\n\u001b[0;32m--> 367\u001b[0m     \u001b[38;5;28;01mreturn\u001b[39;00m \u001b[38;5;28;43mself\u001b[39;49m\u001b[38;5;241;43m.\u001b[39;49m\u001b[43m_map_async\u001b[49m\u001b[43m(\u001b[49m\u001b[43mfunc\u001b[49m\u001b[43m,\u001b[49m\u001b[43m \u001b[49m\u001b[43miterable\u001b[49m\u001b[43m,\u001b[49m\u001b[43m \u001b[49m\u001b[43mmapstar\u001b[49m\u001b[43m,\u001b[49m\u001b[43m \u001b[49m\u001b[43mchunksize\u001b[49m\u001b[43m)\u001b[49m\u001b[38;5;241;43m.\u001b[39;49m\u001b[43mget\u001b[49m\u001b[43m(\u001b[49m\u001b[43m)\u001b[49m\n",
      "File \u001b[0;32m~/miniconda3/envs/oggm_env/lib/python3.12/multiprocessing/pool.py:774\u001b[0m, in \u001b[0;36mApplyResult.get\u001b[0;34m(self, timeout)\u001b[0m\n\u001b[1;32m    772\u001b[0m     \u001b[38;5;28;01mreturn\u001b[39;00m \u001b[38;5;28mself\u001b[39m\u001b[38;5;241m.\u001b[39m_value\n\u001b[1;32m    773\u001b[0m \u001b[38;5;28;01melse\u001b[39;00m:\n\u001b[0;32m--> 774\u001b[0m     \u001b[38;5;28;01mraise\u001b[39;00m \u001b[38;5;28mself\u001b[39m\u001b[38;5;241m.\u001b[39m_value\n",
      "\u001b[0;31mRuntimeError\u001b[0m: Could not find file at https://cluster.klima.uni-bremen.de/~oggm/gdirs/oggm_v1.6/L1-L2_files/elev_bands/RGI62/b_080/L2/list/list.tar"
     ]
    }
   ],
   "source": [
    "ids = [\"a\", \"list\", \"with\", \"your\", \"ids\"]\n",
    "\n",
    "cfg.PATHS['working_dir']  = \"/your/working/directory\"\n",
    "cfg.PATHS['climate_file'] = \"your/climate/file.nc\"\n",
    "\n",
    "# init directories\n",
    "base_url = 'https://cluster.klima.uni-bremen.de/~oggm/gdirs/oggm_v1.6/L1-L2_files/elev_bands/' # RGI 62\n",
    "gdirs = workflow.init_glacier_directories(ids, from_prepro_level=2, prepro_border = 80, prepro_base_url = base_url)\n",
    "\n",
    "# write climate file for each glacier\n",
    "workflow.execute_entity_task(tasks.process_custom_climate_data, gdirs);"
   ]
  }
 ],
 "metadata": {
  "kernelspec": {
   "display_name": "oggm_env",
   "language": "python",
   "name": "python3"
  },
  "language_info": {
   "codemirror_mode": {
    "name": "ipython",
    "version": 3
   },
   "file_extension": ".py",
   "mimetype": "text/x-python",
   "name": "python",
   "nbconvert_exporter": "python",
   "pygments_lexer": "ipython3",
   "version": "3.12.7"
  }
 },
 "nbformat": 4,
 "nbformat_minor": 5
}
