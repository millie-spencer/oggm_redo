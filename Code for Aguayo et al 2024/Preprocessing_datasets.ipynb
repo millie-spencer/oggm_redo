{
 "cells": [
  {
   "cell_type": "markdown",
   "id": "5a76a53c-215f-48ea-91dd-29f195bba40e",
   "metadata": {
    "tags": []
   },
   "source": [
    "# Preprocessing datasets for RGI7 (RGI6 too for testing)"
   ]
  },
  {
   "cell_type": "code",
   "execution_count": 1,
   "id": "94af211d-8efb-40e8-b34d-1ad341e17cae",
   "metadata": {},
   "outputs": [],
   "source": [
    "import os \n",
    "import glob # finds all the pathnames matching a specified pattern according to the rules used by the Unix shell\n",
    "import numpy as np\n",
    "import pandas as pd\n",
    "import geopandas as gpd\n",
    "\n",
    "import rasterio\n",
    "from rasterio.merge import merge\n",
    "from rasterio.plot import show\n",
    "from rasterio.enums import Resampling\n",
    "\n",
    "# Import libraries\n",
    "import rioxarray as riox\n",
    "from rioxarray.merge import merge_arrays\n"
   ]
  },
  {
   "cell_type": "markdown",
   "id": "f6e447c3-e57a-486c-92e0-3269b6ca0772",
   "metadata": {
    "tags": []
   },
   "source": [
    "## Preprocess Millan et al. 2022 dataset"
   ]
  },
  {
   "cell_type": "code",
   "execution_count": 2,
   "id": "9406c0d4-8bd7-4be3-9a55-a3656a382f88",
   "metadata": {},
   "outputs": [],
   "source": [
    "# list_files = glob.glob(\"/home/rooda/Dropbox/Patagonia/GIS South/Glaciers/Millan_2022/THICKNESS*.tif\")\n",
    "list_files = glob.glob(\"/Users/milliespencer/Desktop/data_for_preprocessing/M22/Millan_2022_data/RGI-17_thickness/THICKNESS_RGI-17.2_2022August24.tif\")\n",
    "# there's two tif files (17.2 and 17.3) for my region... can i merge both? also do I disregard the error files? "
   ]
  },
  {
   "cell_type": "code",
   "execution_count": 3,
   "id": "ee5afe92-9b44-4223-9f50-4db6675f6d13",
   "metadata": {},
   "outputs": [],
   "source": [
    "glacier_list = []\n",
    "\n",
    "# Read rasters file\n",
    "for glacier in list_files:\n",
    "    glacier_i = riox.open_rasterio(glacier)\n",
    "    # glacier_i = glacier_i.rio.reproject(\"EPSG:32718\")\n",
    "    glacier_i = glacier_i.rio.reproject(\"EPSG:32719\") # my region is slightly further east \n",
    "    glacier_list.append(glacier_i)\n",
    "\n",
    "# Merge/Mosaic multiple rasters using merge_arrays method of rioxarray\n",
    "merged_raster = merge_arrays(dataarrays = glacier_list, res = (50, 50), crs=\"EPSG:32719\", method='max')\n",
    "merged_raster = merged_raster.round(0).astype(\"int16\")\n",
    "\n",
    "# Save Raster to disk\n",
    "# merged_raster.rio.to_raster(\"/home/rooda/Dropbox/Patagonia/GIS South/Glaciers/Thickness_2022.tif\")\n",
    "merged_raster.rio.to_raster(\"/Users/milliespencer/Desktop/data_for_preprocessing/M22/Millan_2022_data/Thickness_2022.tif\")"
   ]
  },
  {
   "cell_type": "markdown",
   "id": "9068d0b9-a8b2-408f-9d3c-e712cec83fe3",
   "metadata": {},
   "source": [
    "## Preprocess Farinotti et al. 2019 dataset"
   ]
  },
  {
   "cell_type": "code",
   "execution_count": 46,
   "id": "d8e4de9c-4e56-493d-8323-48a0a6837e63",
   "metadata": {
    "tags": []
   },
   "outputs": [],
   "source": [
    "# Rodrigo suggests RGI6 not 7 \n",
    "# RGI6 = gpd.read_file(\"/home/rooda/Dropbox/Patagonia/GIS South/Glaciers/RGI6.shp\")\n",
    "RGI6 = gpd.read_file(\"/Users/milliespencer/Desktop/data_for_preprocessing/RGI6/17_rgi60_SouthernAndes/17_rgi60_SouthernAndes.shp\")\n",
    "\n",
    "# RGI6 = RGI6[RGI6.CenLat < -40.5]  # only glaciers in southern Chile-Argentina\n",
    "RGI6 = RGI6[(RGI6.CenLat >= -40) & (RGI6.CenLat <= -36.13)]\n",
    "# made it 36.13 because I feel like there's already a lot of studies on Glacier Universidad, plus it's not a volcano \n",
    "# alternatively could make the region the border of Maule or Nuble instead of a latitude line... open to thoughts \n",
    "\n",
    "# split list ## what's this part? not sure what this is doing \n",
    "def split(a, n):\n",
    "    k, m = divmod(len(a), n)\n",
    "    return (a[i*k+min(i, m):(i+1)*k+min(i+1, m)] for i in range(n))\n",
    "\n",
    "# File and folder paths\n",
    "# list_files = glob.glob(\"/home/rooda/Dropbox/Patagonia/GIS South/Glaciers/Farinotti_2019/RGI*.tif\")\n",
    "list_files = glob.glob(\"/Users/milliespencer/Desktop/data_for_preprocessing/F19/RGI60-17/*.tif\") # looks for all tif files that start with RGI in this folder \n",
    "list_files_df = pd.DataFrame(list_files,  columns =['dir']) # Creates a DataFrame from list_files\n",
    "list_files_df[\"RGIId\"] = list_files_df.dir.str[65:79] # extracts characters from index 65 to 79 from each file path string. The extracted substring is assigned to a new column named RGIId.\n",
    "# Rodrigo's index was 64 to 77, not sure why it shifted but double checked that my index covers the RGI ID number \n",
    "\n",
    "list_files_df = list_files_df[list_files_df['RGIId'].isin(RGI6.RGIId)]\n",
    "list_files = list_files_df.dir.tolist() # 818 glaciers\n",
    "\n",
    "list_files_split = list(split(list_files, 5)) # maximum number of glaciers: 4000 app\n",
    "# not totally sure why we're doing this - just to make the batch size more managable? maybe not necessary since I have way fewer glaciers "
   ]
  },
  {
   "cell_type": "code",
   "execution_count": 49,
   "id": "0148ab14-0919-4d5f-b5b5-6f86803dce93",
   "metadata": {},
   "outputs": [
    {
     "name": "stdout",
     "output_type": "stream",
     "text": [
      "0\n",
      "1\n",
      "2\n",
      "3\n",
      "4\n"
     ]
    }
   ],
   "source": [
    "for i in range(0,5): # divide in several grops (5 in this case)\n",
    "    sublist = list_files_split[i]\n",
    "    glacier_list = []\n",
    "\n",
    "    for glacier in sublist:\n",
    "        glacier_i = riox.open_rasterio(glacier)\n",
    "        glacier_i = glacier_i.rio.reproject(\"EPSG:32719\", resampling = Resampling.bilinear)\n",
    "        glacier_list.append(glacier_i)\n",
    "        \n",
    "    merged_raster = merge_arrays(dataarrays = glacier_list, res = (50, 50), crs=\"EPSG:32719\", method='max')\n",
    "    merged_raster.rio.to_raster(\"/Users/milliespencer/Desktop/data_for_preprocessing/RGI6/group_\" + str(i) + \".tif\")\n",
    "    print(i)"
   ]
  },
  {
   "cell_type": "code",
   "execution_count": 50,
   "id": "07c85452-6f9f-4a35-937a-2fc3d0e3dcb2",
   "metadata": {
    "tags": []
   },
   "outputs": [],
   "source": [
    "list_files = glob.glob(\"/Users/milliespencer/Desktop/data_for_preprocessing/RGI6/group_*.tif\") # merge 5 groups\n",
    "\n",
    "glacier_list = []\n",
    "\n",
    "# Read rasters file\n",
    "for glacier in list_files:\n",
    "    glacier_i = riox.open_rasterio(glacier)\n",
    "    glacier_i = glacier_i.rio.reproject(\"EPSG:32719\", resampling = Resampling.bilinear)\n",
    "    glacier_list.append(glacier_i)\n",
    "\n",
    "# Merge/Mosaic multiple rasters using merge_arrays method of rioxarray\n",
    "merged_raster = merge_arrays(dataarrays = glacier_list, res = (100, 100), crs=\"EPSG:32719\", method='max')\n",
    "\n",
    "# Save Raster to disk\n",
    "merged_raster.rio.to_raster(\"/Users/milliespencer/Desktop/data_for_preprocessing/Thickness_2019.tif\")"
   ]
  },
  {
   "cell_type": "code",
   "execution_count": 51,
   "id": "60b109c5-978c-427a-b08f-7179394fdb41",
   "metadata": {
    "tags": []
   },
   "outputs": [],
   "source": [
    "for file in list_files: # remove temporary files\n",
    "    os.remove(file)"
   ]
  },
  {
   "cell_type": "markdown",
   "id": "828bb2b5-b656-4b23-ab7c-939cb21a7bfd",
   "metadata": {},
   "source": [
    "## Preprocess Huggonet et al. 2021 dataset"
   ]
  },
  {
   "cell_type": "markdown",
   "id": "9ce230ba",
   "metadata": {},
   "source": [
    "DOI: https://doi.org/10.6096/13\n",
    "Data downloaded on July 29, 2024\n",
    "Picked 2000-2021 Elevation Change data "
   ]
  },
  {
   "cell_type": "code",
   "execution_count": 53,
   "id": "41b32d20-95b8-46c0-9a7e-a85f6f815e67",
   "metadata": {},
   "outputs": [],
   "source": [
    "## dhdt\n",
    "# list_files = glob.glob(\"/home/rooda/Dropbox/Patagonia/GIS South/Glaciers/dhdt/*.tif\")\n",
    "list_files = glob.glob(\"/Users/milliespencer/Desktop/data_for_preprocessing/H21/17_rgi60_2000-01-01_2020-01-01/dhdt/*.tif\")\n",
    "\n",
    "glacier_list = []\n",
    "\n",
    "# Read rasters file\n",
    "for glacier in list_files:\n",
    "    glacier_i = riox.open_rasterio(glacier)\n",
    "    glacier_i = glacier_i.rio.reproject(\"EPSG:32719\", resampling = Resampling.bilinear)\n",
    "    glacier_list.append(glacier_i)\n",
    "\n",
    "# Merge/Mosaic multiple rasters using merge_arrays method of rioxarray\n",
    "merged_raster = merge_arrays(dataarrays = glacier_list, res = (100, 100), crs=\"EPSG:32719\", method='max')\n",
    "\n",
    "# Save Raster to disk\n",
    "merged_raster.rio.to_raster(\"/Users/milliespencer/Desktop/data_for_preprocessing/dhdt_2021.tif\")"
   ]
  },
  {
   "cell_type": "code",
   "execution_count": 54,
   "id": "5bf4e140-aaf6-4256-a392-7fc6602224fa",
   "metadata": {},
   "outputs": [],
   "source": [
    "# dhdt_error\n",
    "# list_files = glob.glob(\"/home/rooda/Dropbox/Patagonia/GIS South/Glaciers/dhdt_error/*.tif\")\n",
    "list_files = glob.glob(\"/Users/milliespencer/Desktop/data_for_preprocessing/H21/17_rgi60_2000-01-01_2020-01-01/dhdt_err/*.tif\")\n",
    "\n",
    "glacier_list = []\n",
    "\n",
    "# Read rasters file\n",
    "for glacier in list_files:\n",
    "    glacier_i = riox.open_rasterio(glacier)\n",
    "    glacier_i = glacier_i.rio.reproject(\"EPSG:32719\", resampling = Resampling.bilinear)\n",
    "    glacier_list.append(glacier_i)\n",
    "\n",
    "# Merge/Mosaic multiple rasters using merge_arrays method of rioxarray\n",
    "merged_raster = merge_arrays(dataarrays = glacier_list, res = (100, 100), crs=\"EPSG:32719\", method='max')\n",
    "\n",
    "# Save Raster to disk\n",
    "# merged_raster.rio.to_raster(\"/home/rooda/Dropbox/Patagonia/GIS South/Glaciers/dhdt_error_2021.tif\")\n",
    "merged_raster.rio.to_raster(\"/Users/milliespencer/Desktop/data_for_preprocessing/dhdt_error_2021.tif\")"
   ]
  }
 ],
 "metadata": {
  "kernelspec": {
   "display_name": "Python 3 (ipykernel)",
   "language": "python",
   "name": "python3"
  },
  "language_info": {
   "codemirror_mode": {
    "name": "ipython",
    "version": 3
   },
   "file_extension": ".py",
   "mimetype": "text/x-python",
   "name": "python",
   "nbconvert_exporter": "python",
   "pygments_lexer": "ipython3",
   "version": "3.12.4"
  },
  "toc-autonumbering": true
 },
 "nbformat": 4,
 "nbformat_minor": 5
}
