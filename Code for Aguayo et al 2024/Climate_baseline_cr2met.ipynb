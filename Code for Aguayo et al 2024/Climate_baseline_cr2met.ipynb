{
 "cells": [
  {
   "cell_type": "markdown",
   "id": "4bc6ce84-95d4-448e-a489-dbe3c4e9cb19",
   "metadata": {},
   "source": [
    "## Climate baseline"
   ]
  },
  {
   "cell_type": "code",
   "execution_count": 1,
   "id": "1dcf4865-6547-405c-9293-8e169f3cf18e",
   "metadata": {},
   "outputs": [
    {
     "ename": "ModuleNotFoundError",
     "evalue": "No module named 'ESMF'",
     "output_type": "error",
     "traceback": [
      "\u001b[0;31m---------------------------------------------------------------------------\u001b[0m",
      "\u001b[0;31mModuleNotFoundError\u001b[0m                       Traceback (most recent call last)",
      "Cell \u001b[0;32mIn[1], line 6\u001b[0m\n\u001b[1;32m      4\u001b[0m \u001b[38;5;28;01mimport\u001b[39;00m \u001b[38;5;21;01mpandas\u001b[39;00m \u001b[38;5;28;01mas\u001b[39;00m \u001b[38;5;21;01mpd\u001b[39;00m\n\u001b[1;32m      5\u001b[0m \u001b[38;5;28;01mimport\u001b[39;00m \u001b[38;5;21;01mgeopandas\u001b[39;00m \u001b[38;5;28;01mas\u001b[39;00m \u001b[38;5;21;01mgpd\u001b[39;00m\n\u001b[0;32m----> 6\u001b[0m \u001b[38;5;28;01mimport\u001b[39;00m \u001b[38;5;21;01mxesmf\u001b[39;00m \u001b[38;5;28;01mas\u001b[39;00m \u001b[38;5;21;01mxe\u001b[39;00m\n\u001b[1;32m      7\u001b[0m \u001b[38;5;28;01mimport\u001b[39;00m \u001b[38;5;21;01mregionmask\u001b[39;00m\n\u001b[1;32m      8\u001b[0m \u001b[38;5;28;01mimport\u001b[39;00m \u001b[38;5;21;01mxarray_regrid\u001b[39;00m \u001b[38;5;66;03m# type: ignore\u001b[39;00m\n",
      "File \u001b[0;32m~/miniconda3/envs/oggm_env/lib/python3.12/site-packages/xesmf/__init__.py:4\u001b[0m\n\u001b[1;32m      1\u001b[0m \u001b[38;5;66;03m# flake8: noqa\u001b[39;00m\n\u001b[1;32m      3\u001b[0m \u001b[38;5;28;01mfrom\u001b[39;00m \u001b[38;5;21;01m.\u001b[39;00m \u001b[38;5;28;01mimport\u001b[39;00m data, util\n\u001b[0;32m----> 4\u001b[0m \u001b[38;5;28;01mfrom\u001b[39;00m \u001b[38;5;21;01m.\u001b[39;00m\u001b[38;5;21;01mfrontend\u001b[39;00m \u001b[38;5;28;01mimport\u001b[39;00m Regridder, SpatialAverager\n\u001b[1;32m      6\u001b[0m \u001b[38;5;28;01mtry\u001b[39;00m:\n\u001b[1;32m      7\u001b[0m     \u001b[38;5;28;01mfrom\u001b[39;00m \u001b[38;5;21;01m.\u001b[39;00m\u001b[38;5;21;01m_version\u001b[39;00m \u001b[38;5;28;01mimport\u001b[39;00m __version__\n",
      "File \u001b[0;32m~/miniconda3/envs/oggm_env/lib/python3.12/site-packages/xesmf/frontend.py:13\u001b[0m\n\u001b[1;32m     10\u001b[0m \u001b[38;5;28;01mimport\u001b[39;00m \u001b[38;5;21;01mxarray\u001b[39;00m \u001b[38;5;28;01mas\u001b[39;00m \u001b[38;5;21;01mxr\u001b[39;00m\n\u001b[1;32m     11\u001b[0m \u001b[38;5;28;01mfrom\u001b[39;00m \u001b[38;5;21;01mxarray\u001b[39;00m \u001b[38;5;28;01mimport\u001b[39;00m DataArray, Dataset\n\u001b[0;32m---> 13\u001b[0m \u001b[38;5;28;01mfrom\u001b[39;00m \u001b[38;5;21;01m.\u001b[39;00m\u001b[38;5;21;01mbackend\u001b[39;00m \u001b[38;5;28;01mimport\u001b[39;00m Grid, LocStream, Mesh, add_corner, esmf_regrid_build, esmf_regrid_finalize\n\u001b[1;32m     14\u001b[0m \u001b[38;5;28;01mfrom\u001b[39;00m \u001b[38;5;21;01m.\u001b[39;00m\u001b[38;5;21;01msmm\u001b[39;00m \u001b[38;5;28;01mimport\u001b[39;00m _combine_weight_multipoly, add_nans_to_weights, apply_weights, read_weights\n\u001b[1;32m     15\u001b[0m \u001b[38;5;28;01mfrom\u001b[39;00m \u001b[38;5;21;01m.\u001b[39;00m\u001b[38;5;21;01mutil\u001b[39;00m \u001b[38;5;28;01mimport\u001b[39;00m split_polygons_and_holes\n",
      "File \u001b[0;32m~/miniconda3/envs/oggm_env/lib/python3.12/site-packages/xesmf/backend.py:21\u001b[0m\n\u001b[1;32m     18\u001b[0m \u001b[38;5;28;01mimport\u001b[39;00m \u001b[38;5;21;01mos\u001b[39;00m\n\u001b[1;32m     19\u001b[0m \u001b[38;5;28;01mimport\u001b[39;00m \u001b[38;5;21;01mwarnings\u001b[39;00m\n\u001b[0;32m---> 21\u001b[0m \u001b[38;5;28;01mimport\u001b[39;00m \u001b[38;5;21;01mESMF\u001b[39;00m\n\u001b[1;32m     22\u001b[0m \u001b[38;5;28;01mimport\u001b[39;00m \u001b[38;5;21;01mnumpy\u001b[39;00m \u001b[38;5;28;01mas\u001b[39;00m \u001b[38;5;21;01mnp\u001b[39;00m\n\u001b[1;32m     23\u001b[0m \u001b[38;5;28;01mimport\u001b[39;00m \u001b[38;5;21;01mnumpy\u001b[39;00m\u001b[38;5;21;01m.\u001b[39;00m\u001b[38;5;21;01mlib\u001b[39;00m\u001b[38;5;21;01m.\u001b[39;00m\u001b[38;5;21;01mrecfunctions\u001b[39;00m \u001b[38;5;28;01mas\u001b[39;00m \u001b[38;5;21;01mnprec\u001b[39;00m\n",
      "\u001b[0;31mModuleNotFoundError\u001b[0m: No module named 'ESMF'"
     ]
    }
   ],
   "source": [
    "import os\n",
    "import glob\n",
    "import xarray as xr\n",
    "import pandas as pd\n",
    "import geopandas as gpd\n",
    "import xesmf as xe\n",
    "import regionmask\n",
    "import xarray_regrid # type: ignore\n",
    "# import netcdf4 \n",
    "\n",
    "# when using \"rename\", dont change the target variable names (of course, change the original variable names according your files)"
   ]
  },
  {
   "cell_type": "code",
   "execution_count": 2,
   "id": "df4609e3-68f1-4f4c-99aa-de6e00797e0f",
   "metadata": {},
   "outputs": [],
   "source": [
    "# the period\n",
    "# period = slice(\"1980-01-01\", \"2019-12-31\")\n",
    "period = slice(\"1980-01-01\", \"2021-12-31\")\n",
    "# data now goes until 2021 so I want to include it... but also it goes back to 1960 - why not include it all? \n",
    "# or at the very least go back to the 1974 IGM DEM "
   ]
  },
  {
   "cell_type": "code",
   "execution_count": 3,
   "id": "7a59e0a5",
   "metadata": {},
   "outputs": [
    {
     "name": "stderr",
     "output_type": "stream",
     "text": [
      "/var/folders/3j/6dy_9gxj7vvgct178jkkp1680000gn/T/ipykernel_59421/2043866637.py:9: DeprecationWarning: dropping variables using `drop` is deprecated; use drop_vars.\n",
      "  dem        = dem.sel(band=1, drop=True).drop(\"spatial_ref\").fillna(0)\n"
     ]
    }
   ],
   "source": [
    "# sample file (to be shared)\n",
    "# example    = xr.open_dataset(\"example_nc.nc\")\n",
    "example    = xr.open_dataset(\"/Users/milliespencer/Desktop/oggm_redo/rodrigo_data/histalp_merged_hef.nc\")\n",
    "\n",
    "# your DEM close to year 2000\n",
    "# dem        = xr.open_dataset(\"file_dem.tif\").rename({'y':'lat', 'x':'lon', 'band_data':'hgt'})\n",
    "dem        = xr.open_dataset(\"/Users/milliespencer/Desktop/oggm_redo/rodrigo_data/srtm_dem_s37_w072_1arc_v3.tif\").rename({'y':'lat', 'x':'lon', 'band_data':'hgt'})\n",
    "# ^ my SRTM 2000 DEM for the area \n",
    "dem        = dem.sel(band=1, drop=True).drop(\"spatial_ref\").fillna(0)\n",
    "dem.hgt.attrs['units'] = \"m\"\n"
   ]
  },
  {
   "cell_type": "code",
   "execution_count": 4,
   "id": "52e48b3d-31d2-43de-8cb5-0fa6e5364aea",
   "metadata": {},
   "outputs": [],
   "source": [
    "# Create path to monthly cr2met data (stored on my desktop)\n",
    "pp_path = '/Users/milliespencer/Desktop/CR2MET_gridded_climate/pr/'\n",
    "# within folder select each file \n",
    "pp_files = []\n",
    "for file in os.listdir(pp_path):\n",
    "    if file.endswith(\".nc\"):\n",
    "        pp_files.append(file)\n",
    "\n",
    "# \" but for temperature \n",
    "t2m_path = '/Users/milliespencer/Desktop/CR2MET_gridded_climate/txn/'\n",
    "t2m_files = []\n",
    "for file in os.listdir('/Users/milliespencer/Desktop/CR2MET_gridded_climate/txn'):\n",
    "    if file.endswith(\".nc\"):\n",
    "        t2m_files.append(file)\n",
    "\n",
    "pp_files = sorted(pp_files)\n",
    "t2m_files = sorted(t2m_files)\n",
    "# if you want to double check that it sorted properly: \n",
    "# for i in range(10):\n",
    "#     print(pp_files[i])\n",
    "#     print(txn_files[i])"
   ]
  },
  {
   "cell_type": "code",
   "execution_count": 5,
   "id": "323ce8a6",
   "metadata": {},
   "outputs": [],
   "source": [
    "pp_cr2met   = xr.open_dataset(pp_path + pp_files[0],  chunks = \"auto\").sel(time = period)\n",
    "t2m_cr2met   = xr.open_dataset(t2m_path + t2m_files[0],  chunks = \"auto\").sel(time = period)\n"
   ]
  },
  {
   "cell_type": "code",
   "execution_count": 8,
   "id": "033a549a",
   "metadata": {},
   "outputs": [
    {
     "name": "stdout",
     "output_type": "stream",
     "text": [
      "<xarray.Dataset> Size: 712kB\n",
      "Dimensions:  (lon: 220, lat: 800, time: 0)\n",
      "Coordinates:\n",
      "  * lon      (lon) float64 2kB -76.97 -76.92 -76.88 ... -66.12 -66.08 -66.03\n",
      "  * lat      (lat) float64 6kB -56.98 -56.93 -56.88 ... -17.12 -17.07 -17.02\n",
      "  * time     (time) datetime64[ns] 0B \n",
      "Data variables:\n",
      "    tmin     (time, lat, lon) float64 0B dask.array<chunksize=(0, 800, 220), meta=np.ndarray>\n",
      "    tmax     (time, lat, lon) float64 0B dask.array<chunksize=(0, 800, 220), meta=np.ndarray>\n",
      "    cl_mask  (lat, lon) float32 704kB dask.array<chunksize=(800, 220), meta=np.ndarray>\n",
      "    tavg     (time, lat, lon) float64 0B dask.array<chunksize=(0, 800, 220), meta=np.ndarray>\n",
      "Attributes: (12/21)\n",
      "    creation_date:          07-Sep-2022 14:35:39\n",
      "    av_ens_qtl:             0.0\n",
      "    agg_metr:               median\n",
      "    authors:                Boisier et al.\n",
      "    obs_file:               MERGE5_QC_tmin_day_1979_2021.csv\n",
      "    topo_vars:              z\n",
      "    ...                     ...\n",
      "    par_ele_spl_rdiff_max:  0.2\n",
      "    era5_vars_s2:           tmin tmax t2m t2m06 t2m12 t2m18 t850 t700 td2m tc...\n",
      "    nb_months:              0\n",
      "    AV_obs_file:            MERGE5_QC_FI_full_tmax_mon_1960_2021_ny_min_20.csv\n",
      "    AV_n_modes_pca:         50\n",
      "    AV_n_modes_cca:         25\n"
     ]
    }
   ],
   "source": [
    "# print(t2m_cr2met.data_vars)\n",
    "# shows there's tmin and tmax, I want tmean so I'll average the two \n",
    "# compute the average temperature\n",
    "t2m_cr2met['tavg'] = (t2m_cr2met['tmin'] + t2m_cr2met['tmax']) / 2\n",
    "\n",
    "# Print the new dataset with the added average temperature variable\n",
    "print(t2m_cr2met)"
   ]
  },
  {
   "cell_type": "code",
   "execution_count": 9,
   "id": "c08f1e49-8990-4a69-ab4e-b2218247472e",
   "metadata": {},
   "outputs": [],
   "source": [
    "# regrid and merge\n",
    "regridder   = xe.Regridder(dem, pp_cr2met, \"bilinear\")\n",
    "dem_cr2met  = regridder(dem)\n",
    "\n",
    "# merge all variables\n",
    "# rodrigo's code sayd pp:prcp but I think the variable is pr, not pp \n",
    "cr2met = xr.merge([pp_cr2met, t2m_cr2met, dem_cr2met]).rename({'pr':'prcp', 'tavg':'temp'})\n",
    "cr2met = cr2met.where((cr2met.lon >= -73) & (cr2met.lon <= -71) & (cr2met.lat >= -38) & (cr2met.lat <= -36), drop=True)\n",
    "# I just approximated the rectangle surrounding Nevados de Chillán to get the coordinates, may want to fine tune \n",
    "cr2met = cr2met[[\"lon\", \"lat\", \"time\", \"prcp\", \"temp\", \"hgt\"]]"
   ]
  },
  {
   "cell_type": "code",
   "execution_count": 10,
   "id": "f469e986-e784-4fdd-a0d3-b9ff83f66a66",
   "metadata": {},
   "outputs": [],
   "source": [
    "# unit attribute\n",
    "cr2met.prcp.attrs['units'] = \"mm\"\n",
    "cr2met.temp.attrs['units'] = \"degc\"\n",
    "cr2met.hgt.attrs['units'] = \"m\"\n",
    "\n",
    "# standard_name attribute\n",
    "cr2met.prcp.attrs['standard_name'] = \"precipitation\"\n",
    "cr2met.temp.attrs['standard_name'] = \"temperature\""
   ]
  },
  {
   "cell_type": "code",
   "execution_count": 11,
   "id": "5050ad74-978a-48d6-8684-965e5ec1dc5d",
   "metadata": {},
   "outputs": [],
   "source": [
    "# save me\n",
    "cr2met.to_netcdf(\"climate_to_use.nc\")"
   ]
  }
 ],
 "metadata": {
  "kernelspec": {
   "display_name": "oggm_env",
   "language": "python",
   "name": "python3"
  },
  "language_info": {
   "codemirror_mode": {
    "name": "ipython",
    "version": 3
   },
   "file_extension": ".py",
   "mimetype": "text/x-python",
   "name": "python",
   "nbconvert_exporter": "python",
   "pygments_lexer": "ipython3",
   "version": "3.12.7"
  }
 },
 "nbformat": 4,
 "nbformat_minor": 5
}
